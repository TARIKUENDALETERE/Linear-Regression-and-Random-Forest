{
 "cells": [
  {
   "cell_type": "raw",
   "id": "0592b3db-6b91-436b-9513-dae3a538dc27",
   "metadata": {},
   "source": [
    "First Machine Learning Project (Building Model)"
   ]
  },
  {
   "cell_type": "code",
   "execution_count": 51,
   "id": "9c3834cc-f793-4f61-8e7e-2d778325c682",
   "metadata": {
    "tags": []
   },
   "outputs": [],
   "source": [
    "import pandas as pd\n",
    "import numpy as np"
   ]
  },
  {
   "cell_type": "code",
   "execution_count": 52,
   "id": "23804137-f082-4718-9d2d-71a58873a611",
   "metadata": {
    "tags": []
   },
   "outputs": [
    {
     "data": {
      "text/html": [
       "<div>\n",
       "<style scoped>\n",
       "    .dataframe tbody tr th:only-of-type {\n",
       "        vertical-align: middle;\n",
       "    }\n",
       "\n",
       "    .dataframe tbody tr th {\n",
       "        vertical-align: top;\n",
       "    }\n",
       "\n",
       "    .dataframe thead th {\n",
       "        text-align: right;\n",
       "    }\n",
       "</style>\n",
       "<table border=\"1\" class=\"dataframe\">\n",
       "  <thead>\n",
       "    <tr style=\"text-align: right;\">\n",
       "      <th></th>\n",
       "      <th>Pregnancies</th>\n",
       "      <th>Glucose</th>\n",
       "      <th>BloodPressure</th>\n",
       "      <th>SkinThickness</th>\n",
       "      <th>Insulin</th>\n",
       "      <th>BMI</th>\n",
       "      <th>DiabetesPedigreeFunction</th>\n",
       "      <th>Age</th>\n",
       "      <th>Outcome</th>\n",
       "    </tr>\n",
       "  </thead>\n",
       "  <tbody>\n",
       "    <tr>\n",
       "      <th>0</th>\n",
       "      <td>6</td>\n",
       "      <td>148</td>\n",
       "      <td>72</td>\n",
       "      <td>35</td>\n",
       "      <td>0</td>\n",
       "      <td>33.6</td>\n",
       "      <td>0.627</td>\n",
       "      <td>50</td>\n",
       "      <td>1</td>\n",
       "    </tr>\n",
       "    <tr>\n",
       "      <th>1</th>\n",
       "      <td>1</td>\n",
       "      <td>85</td>\n",
       "      <td>66</td>\n",
       "      <td>29</td>\n",
       "      <td>0</td>\n",
       "      <td>26.6</td>\n",
       "      <td>0.351</td>\n",
       "      <td>31</td>\n",
       "      <td>0</td>\n",
       "    </tr>\n",
       "    <tr>\n",
       "      <th>2</th>\n",
       "      <td>8</td>\n",
       "      <td>183</td>\n",
       "      <td>64</td>\n",
       "      <td>0</td>\n",
       "      <td>0</td>\n",
       "      <td>23.3</td>\n",
       "      <td>0.672</td>\n",
       "      <td>32</td>\n",
       "      <td>1</td>\n",
       "    </tr>\n",
       "    <tr>\n",
       "      <th>3</th>\n",
       "      <td>1</td>\n",
       "      <td>89</td>\n",
       "      <td>66</td>\n",
       "      <td>23</td>\n",
       "      <td>94</td>\n",
       "      <td>28.1</td>\n",
       "      <td>0.167</td>\n",
       "      <td>21</td>\n",
       "      <td>0</td>\n",
       "    </tr>\n",
       "    <tr>\n",
       "      <th>4</th>\n",
       "      <td>0</td>\n",
       "      <td>137</td>\n",
       "      <td>40</td>\n",
       "      <td>35</td>\n",
       "      <td>168</td>\n",
       "      <td>43.1</td>\n",
       "      <td>2.288</td>\n",
       "      <td>33</td>\n",
       "      <td>1</td>\n",
       "    </tr>\n",
       "    <tr>\n",
       "      <th>...</th>\n",
       "      <td>...</td>\n",
       "      <td>...</td>\n",
       "      <td>...</td>\n",
       "      <td>...</td>\n",
       "      <td>...</td>\n",
       "      <td>...</td>\n",
       "      <td>...</td>\n",
       "      <td>...</td>\n",
       "      <td>...</td>\n",
       "    </tr>\n",
       "    <tr>\n",
       "      <th>763</th>\n",
       "      <td>10</td>\n",
       "      <td>101</td>\n",
       "      <td>76</td>\n",
       "      <td>48</td>\n",
       "      <td>180</td>\n",
       "      <td>32.9</td>\n",
       "      <td>0.171</td>\n",
       "      <td>63</td>\n",
       "      <td>0</td>\n",
       "    </tr>\n",
       "    <tr>\n",
       "      <th>764</th>\n",
       "      <td>2</td>\n",
       "      <td>122</td>\n",
       "      <td>70</td>\n",
       "      <td>27</td>\n",
       "      <td>0</td>\n",
       "      <td>36.8</td>\n",
       "      <td>0.340</td>\n",
       "      <td>27</td>\n",
       "      <td>0</td>\n",
       "    </tr>\n",
       "    <tr>\n",
       "      <th>765</th>\n",
       "      <td>5</td>\n",
       "      <td>121</td>\n",
       "      <td>72</td>\n",
       "      <td>23</td>\n",
       "      <td>112</td>\n",
       "      <td>26.2</td>\n",
       "      <td>0.245</td>\n",
       "      <td>30</td>\n",
       "      <td>0</td>\n",
       "    </tr>\n",
       "    <tr>\n",
       "      <th>766</th>\n",
       "      <td>1</td>\n",
       "      <td>126</td>\n",
       "      <td>60</td>\n",
       "      <td>0</td>\n",
       "      <td>0</td>\n",
       "      <td>30.1</td>\n",
       "      <td>0.349</td>\n",
       "      <td>47</td>\n",
       "      <td>1</td>\n",
       "    </tr>\n",
       "    <tr>\n",
       "      <th>767</th>\n",
       "      <td>1</td>\n",
       "      <td>93</td>\n",
       "      <td>70</td>\n",
       "      <td>31</td>\n",
       "      <td>0</td>\n",
       "      <td>30.4</td>\n",
       "      <td>0.315</td>\n",
       "      <td>23</td>\n",
       "      <td>0</td>\n",
       "    </tr>\n",
       "  </tbody>\n",
       "</table>\n",
       "<p>768 rows × 9 columns</p>\n",
       "</div>"
      ],
      "text/plain": [
       "     Pregnancies  Glucose  BloodPressure  SkinThickness  Insulin   BMI  \\\n",
       "0              6      148             72             35        0  33.6   \n",
       "1              1       85             66             29        0  26.6   \n",
       "2              8      183             64              0        0  23.3   \n",
       "3              1       89             66             23       94  28.1   \n",
       "4              0      137             40             35      168  43.1   \n",
       "..           ...      ...            ...            ...      ...   ...   \n",
       "763           10      101             76             48      180  32.9   \n",
       "764            2      122             70             27        0  36.8   \n",
       "765            5      121             72             23      112  26.2   \n",
       "766            1      126             60              0        0  30.1   \n",
       "767            1       93             70             31        0  30.4   \n",
       "\n",
       "     DiabetesPedigreeFunction  Age  Outcome  \n",
       "0                       0.627   50        1  \n",
       "1                       0.351   31        0  \n",
       "2                       0.672   32        1  \n",
       "3                       0.167   21        0  \n",
       "4                       2.288   33        1  \n",
       "..                        ...  ...      ...  \n",
       "763                     0.171   63        0  \n",
       "764                     0.340   27        0  \n",
       "765                     0.245   30        0  \n",
       "766                     0.349   47        1  \n",
       "767                     0.315   23        0  \n",
       "\n",
       "[768 rows x 9 columns]"
      ]
     },
     "execution_count": 52,
     "metadata": {},
     "output_type": "execute_result"
    }
   ],
   "source": [
    "df=pd.read_csv('Diabetes.csv')\n",
    "df"
   ]
  },
  {
   "cell_type": "code",
   "execution_count": 53,
   "id": "d8d3533d-a2de-4e7d-b1ef-c7f6c531d2b9",
   "metadata": {
    "tags": []
   },
   "outputs": [
    {
     "data": {
      "text/plain": [
       "0        0\n",
       "1        0\n",
       "2        0\n",
       "3       94\n",
       "4      168\n",
       "      ... \n",
       "763    180\n",
       "764      0\n",
       "765    112\n",
       "766      0\n",
       "767      0\n",
       "Name: Insulin, Length: 768, dtype: int64"
      ]
     },
     "execution_count": 53,
     "metadata": {},
     "output_type": "execute_result"
    }
   ],
   "source": [
    "y=df['Insulin']\n",
    "y"
   ]
  },
  {
   "cell_type": "code",
   "execution_count": 7,
   "id": "584bd03b-d407-4250-b399-2dd3f11fa803",
   "metadata": {
    "tags": []
   },
   "outputs": [
    {
     "data": {
      "text/html": [
       "<div>\n",
       "<style scoped>\n",
       "    .dataframe tbody tr th:only-of-type {\n",
       "        vertical-align: middle;\n",
       "    }\n",
       "\n",
       "    .dataframe tbody tr th {\n",
       "        vertical-align: top;\n",
       "    }\n",
       "\n",
       "    .dataframe thead th {\n",
       "        text-align: right;\n",
       "    }\n",
       "</style>\n",
       "<table border=\"1\" class=\"dataframe\">\n",
       "  <thead>\n",
       "    <tr style=\"text-align: right;\">\n",
       "      <th></th>\n",
       "      <th>Pregnancies</th>\n",
       "      <th>Glucose</th>\n",
       "      <th>BloodPressure</th>\n",
       "      <th>SkinThickness</th>\n",
       "      <th>BMI</th>\n",
       "      <th>DiabetesPedigreeFunction</th>\n",
       "      <th>Age</th>\n",
       "      <th>Outcome</th>\n",
       "    </tr>\n",
       "  </thead>\n",
       "  <tbody>\n",
       "    <tr>\n",
       "      <th>0</th>\n",
       "      <td>6</td>\n",
       "      <td>148</td>\n",
       "      <td>72</td>\n",
       "      <td>35</td>\n",
       "      <td>33.6</td>\n",
       "      <td>0.627</td>\n",
       "      <td>50</td>\n",
       "      <td>1</td>\n",
       "    </tr>\n",
       "    <tr>\n",
       "      <th>1</th>\n",
       "      <td>1</td>\n",
       "      <td>85</td>\n",
       "      <td>66</td>\n",
       "      <td>29</td>\n",
       "      <td>26.6</td>\n",
       "      <td>0.351</td>\n",
       "      <td>31</td>\n",
       "      <td>0</td>\n",
       "    </tr>\n",
       "    <tr>\n",
       "      <th>2</th>\n",
       "      <td>8</td>\n",
       "      <td>183</td>\n",
       "      <td>64</td>\n",
       "      <td>0</td>\n",
       "      <td>23.3</td>\n",
       "      <td>0.672</td>\n",
       "      <td>32</td>\n",
       "      <td>1</td>\n",
       "    </tr>\n",
       "    <tr>\n",
       "      <th>3</th>\n",
       "      <td>1</td>\n",
       "      <td>89</td>\n",
       "      <td>66</td>\n",
       "      <td>23</td>\n",
       "      <td>28.1</td>\n",
       "      <td>0.167</td>\n",
       "      <td>21</td>\n",
       "      <td>0</td>\n",
       "    </tr>\n",
       "    <tr>\n",
       "      <th>4</th>\n",
       "      <td>0</td>\n",
       "      <td>137</td>\n",
       "      <td>40</td>\n",
       "      <td>35</td>\n",
       "      <td>43.1</td>\n",
       "      <td>2.288</td>\n",
       "      <td>33</td>\n",
       "      <td>1</td>\n",
       "    </tr>\n",
       "    <tr>\n",
       "      <th>...</th>\n",
       "      <td>...</td>\n",
       "      <td>...</td>\n",
       "      <td>...</td>\n",
       "      <td>...</td>\n",
       "      <td>...</td>\n",
       "      <td>...</td>\n",
       "      <td>...</td>\n",
       "      <td>...</td>\n",
       "    </tr>\n",
       "    <tr>\n",
       "      <th>763</th>\n",
       "      <td>10</td>\n",
       "      <td>101</td>\n",
       "      <td>76</td>\n",
       "      <td>48</td>\n",
       "      <td>32.9</td>\n",
       "      <td>0.171</td>\n",
       "      <td>63</td>\n",
       "      <td>0</td>\n",
       "    </tr>\n",
       "    <tr>\n",
       "      <th>764</th>\n",
       "      <td>2</td>\n",
       "      <td>122</td>\n",
       "      <td>70</td>\n",
       "      <td>27</td>\n",
       "      <td>36.8</td>\n",
       "      <td>0.340</td>\n",
       "      <td>27</td>\n",
       "      <td>0</td>\n",
       "    </tr>\n",
       "    <tr>\n",
       "      <th>765</th>\n",
       "      <td>5</td>\n",
       "      <td>121</td>\n",
       "      <td>72</td>\n",
       "      <td>23</td>\n",
       "      <td>26.2</td>\n",
       "      <td>0.245</td>\n",
       "      <td>30</td>\n",
       "      <td>0</td>\n",
       "    </tr>\n",
       "    <tr>\n",
       "      <th>766</th>\n",
       "      <td>1</td>\n",
       "      <td>126</td>\n",
       "      <td>60</td>\n",
       "      <td>0</td>\n",
       "      <td>30.1</td>\n",
       "      <td>0.349</td>\n",
       "      <td>47</td>\n",
       "      <td>1</td>\n",
       "    </tr>\n",
       "    <tr>\n",
       "      <th>767</th>\n",
       "      <td>1</td>\n",
       "      <td>93</td>\n",
       "      <td>70</td>\n",
       "      <td>31</td>\n",
       "      <td>30.4</td>\n",
       "      <td>0.315</td>\n",
       "      <td>23</td>\n",
       "      <td>0</td>\n",
       "    </tr>\n",
       "  </tbody>\n",
       "</table>\n",
       "<p>768 rows × 8 columns</p>\n",
       "</div>"
      ],
      "text/plain": [
       "     Pregnancies  Glucose  BloodPressure  SkinThickness   BMI  \\\n",
       "0              6      148             72             35  33.6   \n",
       "1              1       85             66             29  26.6   \n",
       "2              8      183             64              0  23.3   \n",
       "3              1       89             66             23  28.1   \n",
       "4              0      137             40             35  43.1   \n",
       "..           ...      ...            ...            ...   ...   \n",
       "763           10      101             76             48  32.9   \n",
       "764            2      122             70             27  36.8   \n",
       "765            5      121             72             23  26.2   \n",
       "766            1      126             60              0  30.1   \n",
       "767            1       93             70             31  30.4   \n",
       "\n",
       "     DiabetesPedigreeFunction  Age  Outcome  \n",
       "0                       0.627   50        1  \n",
       "1                       0.351   31        0  \n",
       "2                       0.672   32        1  \n",
       "3                       0.167   21        0  \n",
       "4                       2.288   33        1  \n",
       "..                        ...  ...      ...  \n",
       "763                     0.171   63        0  \n",
       "764                     0.340   27        0  \n",
       "765                     0.245   30        0  \n",
       "766                     0.349   47        1  \n",
       "767                     0.315   23        0  \n",
       "\n",
       "[768 rows x 8 columns]"
      ]
     },
     "execution_count": 7,
     "metadata": {},
     "output_type": "execute_result"
    }
   ],
   "source": [
    "x=df.drop('Insulin', axis=1)\n",
    "x"
   ]
  },
  {
   "cell_type": "code",
   "execution_count": 10,
   "id": "62610650-bf89-4c24-8647-456303cb1765",
   "metadata": {
    "tags": []
   },
   "outputs": [],
   "source": [
    "###Data Splitting###"
   ]
  },
  {
   "cell_type": "code",
   "execution_count": 10,
   "id": "763c9b08-e6a9-4e46-a70c-fec3a8ab6f09",
   "metadata": {
    "tags": []
   },
   "outputs": [],
   "source": [
    "from sklearn.model_selection import train_test_split\n",
    "\n",
    "x_train,x_test,y_train,y_test=train_test_split(x,y,test_size=0.2, random_state=100)"
   ]
  },
  {
   "cell_type": "code",
   "execution_count": 9,
   "id": "2d004c9d-2855-4a98-9935-44df3cdfbe14",
   "metadata": {
    "tags": []
   },
   "outputs": [
    {
     "data": {
      "text/html": [
       "<div>\n",
       "<style scoped>\n",
       "    .dataframe tbody tr th:only-of-type {\n",
       "        vertical-align: middle;\n",
       "    }\n",
       "\n",
       "    .dataframe tbody tr th {\n",
       "        vertical-align: top;\n",
       "    }\n",
       "\n",
       "    .dataframe thead th {\n",
       "        text-align: right;\n",
       "    }\n",
       "</style>\n",
       "<table border=\"1\" class=\"dataframe\">\n",
       "  <thead>\n",
       "    <tr style=\"text-align: right;\">\n",
       "      <th></th>\n",
       "      <th>Pregnancies</th>\n",
       "      <th>Glucose</th>\n",
       "      <th>BloodPressure</th>\n",
       "      <th>SkinThickness</th>\n",
       "      <th>BMI</th>\n",
       "      <th>DiabetesPedigreeFunction</th>\n",
       "      <th>Age</th>\n",
       "      <th>Outcome</th>\n",
       "    </tr>\n",
       "  </thead>\n",
       "  <tbody>\n",
       "    <tr>\n",
       "      <th>660</th>\n",
       "      <td>10</td>\n",
       "      <td>162</td>\n",
       "      <td>84</td>\n",
       "      <td>0</td>\n",
       "      <td>27.7</td>\n",
       "      <td>0.182</td>\n",
       "      <td>54</td>\n",
       "      <td>0</td>\n",
       "    </tr>\n",
       "    <tr>\n",
       "      <th>69</th>\n",
       "      <td>4</td>\n",
       "      <td>146</td>\n",
       "      <td>85</td>\n",
       "      <td>27</td>\n",
       "      <td>28.9</td>\n",
       "      <td>0.189</td>\n",
       "      <td>27</td>\n",
       "      <td>0</td>\n",
       "    </tr>\n",
       "    <tr>\n",
       "      <th>85</th>\n",
       "      <td>2</td>\n",
       "      <td>110</td>\n",
       "      <td>74</td>\n",
       "      <td>29</td>\n",
       "      <td>32.4</td>\n",
       "      <td>0.698</td>\n",
       "      <td>27</td>\n",
       "      <td>0</td>\n",
       "    </tr>\n",
       "    <tr>\n",
       "      <th>219</th>\n",
       "      <td>5</td>\n",
       "      <td>112</td>\n",
       "      <td>66</td>\n",
       "      <td>0</td>\n",
       "      <td>37.8</td>\n",
       "      <td>0.261</td>\n",
       "      <td>41</td>\n",
       "      <td>1</td>\n",
       "    </tr>\n",
       "    <tr>\n",
       "      <th>712</th>\n",
       "      <td>10</td>\n",
       "      <td>129</td>\n",
       "      <td>62</td>\n",
       "      <td>36</td>\n",
       "      <td>41.2</td>\n",
       "      <td>0.441</td>\n",
       "      <td>38</td>\n",
       "      <td>1</td>\n",
       "    </tr>\n",
       "    <tr>\n",
       "      <th>...</th>\n",
       "      <td>...</td>\n",
       "      <td>...</td>\n",
       "      <td>...</td>\n",
       "      <td>...</td>\n",
       "      <td>...</td>\n",
       "      <td>...</td>\n",
       "      <td>...</td>\n",
       "      <td>...</td>\n",
       "    </tr>\n",
       "    <tr>\n",
       "      <th>578</th>\n",
       "      <td>10</td>\n",
       "      <td>133</td>\n",
       "      <td>68</td>\n",
       "      <td>0</td>\n",
       "      <td>27.0</td>\n",
       "      <td>0.245</td>\n",
       "      <td>36</td>\n",
       "      <td>0</td>\n",
       "    </tr>\n",
       "    <tr>\n",
       "      <th>53</th>\n",
       "      <td>8</td>\n",
       "      <td>176</td>\n",
       "      <td>90</td>\n",
       "      <td>34</td>\n",
       "      <td>33.7</td>\n",
       "      <td>0.467</td>\n",
       "      <td>58</td>\n",
       "      <td>1</td>\n",
       "    </tr>\n",
       "    <tr>\n",
       "      <th>350</th>\n",
       "      <td>4</td>\n",
       "      <td>92</td>\n",
       "      <td>80</td>\n",
       "      <td>0</td>\n",
       "      <td>42.2</td>\n",
       "      <td>0.237</td>\n",
       "      <td>29</td>\n",
       "      <td>0</td>\n",
       "    </tr>\n",
       "    <tr>\n",
       "      <th>79</th>\n",
       "      <td>2</td>\n",
       "      <td>112</td>\n",
       "      <td>66</td>\n",
       "      <td>22</td>\n",
       "      <td>25.0</td>\n",
       "      <td>0.307</td>\n",
       "      <td>24</td>\n",
       "      <td>0</td>\n",
       "    </tr>\n",
       "    <tr>\n",
       "      <th>520</th>\n",
       "      <td>2</td>\n",
       "      <td>68</td>\n",
       "      <td>70</td>\n",
       "      <td>32</td>\n",
       "      <td>25.0</td>\n",
       "      <td>0.187</td>\n",
       "      <td>25</td>\n",
       "      <td>0</td>\n",
       "    </tr>\n",
       "  </tbody>\n",
       "</table>\n",
       "<p>614 rows × 8 columns</p>\n",
       "</div>"
      ],
      "text/plain": [
       "     Pregnancies  Glucose  BloodPressure  SkinThickness   BMI  \\\n",
       "660           10      162             84              0  27.7   \n",
       "69             4      146             85             27  28.9   \n",
       "85             2      110             74             29  32.4   \n",
       "219            5      112             66              0  37.8   \n",
       "712           10      129             62             36  41.2   \n",
       "..           ...      ...            ...            ...   ...   \n",
       "578           10      133             68              0  27.0   \n",
       "53             8      176             90             34  33.7   \n",
       "350            4       92             80              0  42.2   \n",
       "79             2      112             66             22  25.0   \n",
       "520            2       68             70             32  25.0   \n",
       "\n",
       "     DiabetesPedigreeFunction  Age  Outcome  \n",
       "660                     0.182   54        0  \n",
       "69                      0.189   27        0  \n",
       "85                      0.698   27        0  \n",
       "219                     0.261   41        1  \n",
       "712                     0.441   38        1  \n",
       "..                        ...  ...      ...  \n",
       "578                     0.245   36        0  \n",
       "53                      0.467   58        1  \n",
       "350                     0.237   29        0  \n",
       "79                      0.307   24        0  \n",
       "520                     0.187   25        0  \n",
       "\n",
       "[614 rows x 8 columns]"
      ]
     },
     "execution_count": 9,
     "metadata": {},
     "output_type": "execute_result"
    }
   ],
   "source": [
    "x_train"
   ]
  },
  {
   "cell_type": "code",
   "execution_count": 11,
   "id": "485f9d6e-e623-4931-8eed-3e2e6c7c048e",
   "metadata": {
    "tags": []
   },
   "outputs": [
    {
     "data": {
      "text/html": [
       "<div>\n",
       "<style scoped>\n",
       "    .dataframe tbody tr th:only-of-type {\n",
       "        vertical-align: middle;\n",
       "    }\n",
       "\n",
       "    .dataframe tbody tr th {\n",
       "        vertical-align: top;\n",
       "    }\n",
       "\n",
       "    .dataframe thead th {\n",
       "        text-align: right;\n",
       "    }\n",
       "</style>\n",
       "<table border=\"1\" class=\"dataframe\">\n",
       "  <thead>\n",
       "    <tr style=\"text-align: right;\">\n",
       "      <th></th>\n",
       "      <th>Pregnancies</th>\n",
       "      <th>Glucose</th>\n",
       "      <th>BloodPressure</th>\n",
       "      <th>SkinThickness</th>\n",
       "      <th>BMI</th>\n",
       "      <th>DiabetesPedigreeFunction</th>\n",
       "      <th>Age</th>\n",
       "      <th>Outcome</th>\n",
       "    </tr>\n",
       "  </thead>\n",
       "  <tbody>\n",
       "    <tr>\n",
       "      <th>173</th>\n",
       "      <td>1</td>\n",
       "      <td>79</td>\n",
       "      <td>60</td>\n",
       "      <td>42</td>\n",
       "      <td>43.5</td>\n",
       "      <td>0.678</td>\n",
       "      <td>23</td>\n",
       "      <td>0</td>\n",
       "    </tr>\n",
       "    <tr>\n",
       "      <th>253</th>\n",
       "      <td>0</td>\n",
       "      <td>86</td>\n",
       "      <td>68</td>\n",
       "      <td>32</td>\n",
       "      <td>35.8</td>\n",
       "      <td>0.238</td>\n",
       "      <td>25</td>\n",
       "      <td>0</td>\n",
       "    </tr>\n",
       "    <tr>\n",
       "      <th>207</th>\n",
       "      <td>5</td>\n",
       "      <td>162</td>\n",
       "      <td>104</td>\n",
       "      <td>0</td>\n",
       "      <td>37.7</td>\n",
       "      <td>0.151</td>\n",
       "      <td>52</td>\n",
       "      <td>1</td>\n",
       "    </tr>\n",
       "    <tr>\n",
       "      <th>737</th>\n",
       "      <td>8</td>\n",
       "      <td>65</td>\n",
       "      <td>72</td>\n",
       "      <td>23</td>\n",
       "      <td>32.0</td>\n",
       "      <td>0.600</td>\n",
       "      <td>42</td>\n",
       "      <td>0</td>\n",
       "    </tr>\n",
       "    <tr>\n",
       "      <th>191</th>\n",
       "      <td>9</td>\n",
       "      <td>123</td>\n",
       "      <td>70</td>\n",
       "      <td>44</td>\n",
       "      <td>33.1</td>\n",
       "      <td>0.374</td>\n",
       "      <td>40</td>\n",
       "      <td>0</td>\n",
       "    </tr>\n",
       "    <tr>\n",
       "      <th>...</th>\n",
       "      <td>...</td>\n",
       "      <td>...</td>\n",
       "      <td>...</td>\n",
       "      <td>...</td>\n",
       "      <td>...</td>\n",
       "      <td>...</td>\n",
       "      <td>...</td>\n",
       "      <td>...</td>\n",
       "    </tr>\n",
       "    <tr>\n",
       "      <th>203</th>\n",
       "      <td>2</td>\n",
       "      <td>99</td>\n",
       "      <td>70</td>\n",
       "      <td>16</td>\n",
       "      <td>20.4</td>\n",
       "      <td>0.235</td>\n",
       "      <td>27</td>\n",
       "      <td>0</td>\n",
       "    </tr>\n",
       "    <tr>\n",
       "      <th>216</th>\n",
       "      <td>5</td>\n",
       "      <td>109</td>\n",
       "      <td>62</td>\n",
       "      <td>41</td>\n",
       "      <td>35.8</td>\n",
       "      <td>0.514</td>\n",
       "      <td>25</td>\n",
       "      <td>1</td>\n",
       "    </tr>\n",
       "    <tr>\n",
       "      <th>637</th>\n",
       "      <td>2</td>\n",
       "      <td>94</td>\n",
       "      <td>76</td>\n",
       "      <td>18</td>\n",
       "      <td>31.6</td>\n",
       "      <td>0.649</td>\n",
       "      <td>23</td>\n",
       "      <td>0</td>\n",
       "    </tr>\n",
       "    <tr>\n",
       "      <th>659</th>\n",
       "      <td>3</td>\n",
       "      <td>80</td>\n",
       "      <td>82</td>\n",
       "      <td>31</td>\n",
       "      <td>34.2</td>\n",
       "      <td>1.292</td>\n",
       "      <td>27</td>\n",
       "      <td>1</td>\n",
       "    </tr>\n",
       "    <tr>\n",
       "      <th>116</th>\n",
       "      <td>5</td>\n",
       "      <td>124</td>\n",
       "      <td>74</td>\n",
       "      <td>0</td>\n",
       "      <td>34.0</td>\n",
       "      <td>0.220</td>\n",
       "      <td>38</td>\n",
       "      <td>1</td>\n",
       "    </tr>\n",
       "  </tbody>\n",
       "</table>\n",
       "<p>154 rows × 8 columns</p>\n",
       "</div>"
      ],
      "text/plain": [
       "     Pregnancies  Glucose  BloodPressure  SkinThickness   BMI  \\\n",
       "173            1       79             60             42  43.5   \n",
       "253            0       86             68             32  35.8   \n",
       "207            5      162            104              0  37.7   \n",
       "737            8       65             72             23  32.0   \n",
       "191            9      123             70             44  33.1   \n",
       "..           ...      ...            ...            ...   ...   \n",
       "203            2       99             70             16  20.4   \n",
       "216            5      109             62             41  35.8   \n",
       "637            2       94             76             18  31.6   \n",
       "659            3       80             82             31  34.2   \n",
       "116            5      124             74              0  34.0   \n",
       "\n",
       "     DiabetesPedigreeFunction  Age  Outcome  \n",
       "173                     0.678   23        0  \n",
       "253                     0.238   25        0  \n",
       "207                     0.151   52        1  \n",
       "737                     0.600   42        0  \n",
       "191                     0.374   40        0  \n",
       "..                        ...  ...      ...  \n",
       "203                     0.235   27        0  \n",
       "216                     0.514   25        1  \n",
       "637                     0.649   23        0  \n",
       "659                     1.292   27        1  \n",
       "116                     0.220   38        1  \n",
       "\n",
       "[154 rows x 8 columns]"
      ]
     },
     "execution_count": 11,
     "metadata": {},
     "output_type": "execute_result"
    }
   ],
   "source": [
    "x_test"
   ]
  },
  {
   "cell_type": "raw",
   "id": "6c9e2d1b-35a6-47dc-9942-c90bc8c38861",
   "metadata": {},
   "source": [
    "Build Linear Regression\n"
   ]
  },
  {
   "cell_type": "code",
   "execution_count": 12,
   "id": "7ceec1be-452d-4a1b-aff9-9d1fad132477",
   "metadata": {
    "tags": []
   },
   "outputs": [],
   "source": [
    "from sklearn.linear_model import LinearRegression\n",
    "lr=LinearRegression()\n",
    "model=lr.fit(x_train,y_train)"
   ]
  },
  {
   "cell_type": "raw",
   "id": "0dd917fb-6024-4394-8356-74dc79fb6b58",
   "metadata": {
    "tags": []
   },
   "source": [
    "Applying the Model to make a prediction"
   ]
  },
  {
   "cell_type": "code",
   "execution_count": 54,
   "id": "20f72ca0-7f98-4d91-9a32-2490d20ff1dd",
   "metadata": {
    "tags": []
   },
   "outputs": [
    {
     "data": {
      "text/plain": [
       "array([-1.61231282,  1.2237354 , -0.12879253,  2.90430971, -0.38224949,\n",
       "       16.83192384, -0.3959609 , -7.09268018])"
      ]
     },
     "execution_count": 54,
     "metadata": {},
     "output_type": "execute_result"
    }
   ],
   "source": [
    "model.coef_\n"
   ]
  },
  {
   "cell_type": "code",
   "execution_count": 55,
   "id": "1e82bcf0-46d3-456d-b1dc-c33a55195310",
   "metadata": {
    "tags": []
   },
   "outputs": [
    {
     "data": {
      "text/plain": [
       "-93.86269329937697"
      ]
     },
     "execution_count": 55,
     "metadata": {},
     "output_type": "execute_result"
    }
   ],
   "source": [
    "model.intercept_"
   ]
  },
  {
   "cell_type": "code",
   "execution_count": 64,
   "id": "07f571f1-2bd5-4dd0-bd84-7126a29cfd2a",
   "metadata": {
    "tags": []
   },
   "outputs": [
    {
     "data": {
      "text/html": [
       "<style>#sk-container-id-3 {color: black;}#sk-container-id-3 pre{padding: 0;}#sk-container-id-3 div.sk-toggleable {background-color: white;}#sk-container-id-3 label.sk-toggleable__label {cursor: pointer;display: block;width: 100%;margin-bottom: 0;padding: 0.3em;box-sizing: border-box;text-align: center;}#sk-container-id-3 label.sk-toggleable__label-arrow:before {content: \"▸\";float: left;margin-right: 0.25em;color: #696969;}#sk-container-id-3 label.sk-toggleable__label-arrow:hover:before {color: black;}#sk-container-id-3 div.sk-estimator:hover label.sk-toggleable__label-arrow:before {color: black;}#sk-container-id-3 div.sk-toggleable__content {max-height: 0;max-width: 0;overflow: hidden;text-align: left;background-color: #f0f8ff;}#sk-container-id-3 div.sk-toggleable__content pre {margin: 0.2em;color: black;border-radius: 0.25em;background-color: #f0f8ff;}#sk-container-id-3 input.sk-toggleable__control:checked~div.sk-toggleable__content {max-height: 200px;max-width: 100%;overflow: auto;}#sk-container-id-3 input.sk-toggleable__control:checked~label.sk-toggleable__label-arrow:before {content: \"▾\";}#sk-container-id-3 div.sk-estimator input.sk-toggleable__control:checked~label.sk-toggleable__label {background-color: #d4ebff;}#sk-container-id-3 div.sk-label input.sk-toggleable__control:checked~label.sk-toggleable__label {background-color: #d4ebff;}#sk-container-id-3 input.sk-hidden--visually {border: 0;clip: rect(1px 1px 1px 1px);clip: rect(1px, 1px, 1px, 1px);height: 1px;margin: -1px;overflow: hidden;padding: 0;position: absolute;width: 1px;}#sk-container-id-3 div.sk-estimator {font-family: monospace;background-color: #f0f8ff;border: 1px dotted black;border-radius: 0.25em;box-sizing: border-box;margin-bottom: 0.5em;}#sk-container-id-3 div.sk-estimator:hover {background-color: #d4ebff;}#sk-container-id-3 div.sk-parallel-item::after {content: \"\";width: 100%;border-bottom: 1px solid gray;flex-grow: 1;}#sk-container-id-3 div.sk-label:hover label.sk-toggleable__label {background-color: #d4ebff;}#sk-container-id-3 div.sk-serial::before {content: \"\";position: absolute;border-left: 1px solid gray;box-sizing: border-box;top: 0;bottom: 0;left: 50%;z-index: 0;}#sk-container-id-3 div.sk-serial {display: flex;flex-direction: column;align-items: center;background-color: white;padding-right: 0.2em;padding-left: 0.2em;position: relative;}#sk-container-id-3 div.sk-item {position: relative;z-index: 1;}#sk-container-id-3 div.sk-parallel {display: flex;align-items: stretch;justify-content: center;background-color: white;position: relative;}#sk-container-id-3 div.sk-item::before, #sk-container-id-3 div.sk-parallel-item::before {content: \"\";position: absolute;border-left: 1px solid gray;box-sizing: border-box;top: 0;bottom: 0;left: 50%;z-index: -1;}#sk-container-id-3 div.sk-parallel-item {display: flex;flex-direction: column;z-index: 1;position: relative;background-color: white;}#sk-container-id-3 div.sk-parallel-item:first-child::after {align-self: flex-end;width: 50%;}#sk-container-id-3 div.sk-parallel-item:last-child::after {align-self: flex-start;width: 50%;}#sk-container-id-3 div.sk-parallel-item:only-child::after {width: 0;}#sk-container-id-3 div.sk-dashed-wrapped {border: 1px dashed gray;margin: 0 0.4em 0.5em 0.4em;box-sizing: border-box;padding-bottom: 0.4em;background-color: white;}#sk-container-id-3 div.sk-label label {font-family: monospace;font-weight: bold;display: inline-block;line-height: 1.2em;}#sk-container-id-3 div.sk-label-container {text-align: center;}#sk-container-id-3 div.sk-container {/* jupyter's `normalize.less` sets `[hidden] { display: none; }` but bootstrap.min.css set `[hidden] { display: none !important; }` so we also need the `!important` here to be able to override the default hidden behavior on the sphinx rendered scikit-learn.org. See: https://github.com/scikit-learn/scikit-learn/issues/21755 */display: inline-block !important;position: relative;}#sk-container-id-3 div.sk-text-repr-fallback {display: none;}</style><div id=\"sk-container-id-3\" class=\"sk-top-container\"><div class=\"sk-text-repr-fallback\"><pre>LinearRegression()</pre><b>In a Jupyter environment, please rerun this cell to show the HTML representation or trust the notebook. <br />On GitHub, the HTML representation is unable to render, please try loading this page with nbviewer.org.</b></div><div class=\"sk-container\" hidden><div class=\"sk-item\"><div class=\"sk-estimator sk-toggleable\"><input class=\"sk-toggleable__control sk-hidden--visually\" id=\"sk-estimator-id-3\" type=\"checkbox\" checked><label for=\"sk-estimator-id-3\" class=\"sk-toggleable__label sk-toggleable__label-arrow\">LinearRegression</label><div class=\"sk-toggleable__content\"><pre>LinearRegression()</pre></div></div></div></div></div>"
      ],
      "text/plain": [
       "LinearRegression()"
      ]
     },
     "execution_count": 64,
     "metadata": {},
     "output_type": "execute_result"
    }
   ],
   "source": [
    "model"
   ]
  },
  {
   "cell_type": "code",
   "execution_count": 59,
   "id": "34a64570-96e2-477a-b75d-203d459605bd",
   "metadata": {},
   "outputs": [
    {
     "data": {
      "text/plain": [
       "array([-1.61231282,  1.2237354 , -0.12879253,  2.90430971, -0.38224949,\n",
       "       16.83192384, -0.3959609 , -7.09268018])"
      ]
     },
     "execution_count": 59,
     "metadata": {},
     "output_type": "execute_result"
    }
   ],
   "source": [
    "model.coef_"
   ]
  },
  {
   "cell_type": "code",
   "execution_count": 67,
   "id": "2f9f4b85-9815-4690-a4ba-125766e33772",
   "metadata": {
    "tags": []
   },
   "outputs": [
    {
     "data": {
      "text/html": [
       "<div>\n",
       "<style scoped>\n",
       "    .dataframe tbody tr th:only-of-type {\n",
       "        vertical-align: middle;\n",
       "    }\n",
       "\n",
       "    .dataframe tbody tr th {\n",
       "        vertical-align: top;\n",
       "    }\n",
       "\n",
       "    .dataframe thead th {\n",
       "        text-align: right;\n",
       "    }\n",
       "</style>\n",
       "<table border=\"1\" class=\"dataframe\">\n",
       "  <thead>\n",
       "    <tr style=\"text-align: right;\">\n",
       "      <th></th>\n",
       "      <th>Pregnancies</th>\n",
       "      <th>Glucose</th>\n",
       "      <th>BloodPressure</th>\n",
       "      <th>SkinThickness</th>\n",
       "      <th>BMI</th>\n",
       "      <th>DiabetesPedigreeFunction</th>\n",
       "      <th>Age</th>\n",
       "      <th>Outcome</th>\n",
       "    </tr>\n",
       "  </thead>\n",
       "  <tbody>\n",
       "    <tr>\n",
       "      <th>173</th>\n",
       "      <td>1</td>\n",
       "      <td>79</td>\n",
       "      <td>60</td>\n",
       "      <td>42</td>\n",
       "      <td>43.5</td>\n",
       "      <td>0.678</td>\n",
       "      <td>23</td>\n",
       "      <td>0</td>\n",
       "    </tr>\n",
       "    <tr>\n",
       "      <th>253</th>\n",
       "      <td>0</td>\n",
       "      <td>86</td>\n",
       "      <td>68</td>\n",
       "      <td>32</td>\n",
       "      <td>35.8</td>\n",
       "      <td>0.238</td>\n",
       "      <td>25</td>\n",
       "      <td>0</td>\n",
       "    </tr>\n",
       "    <tr>\n",
       "      <th>207</th>\n",
       "      <td>5</td>\n",
       "      <td>162</td>\n",
       "      <td>104</td>\n",
       "      <td>0</td>\n",
       "      <td>37.7</td>\n",
       "      <td>0.151</td>\n",
       "      <td>52</td>\n",
       "      <td>1</td>\n",
       "    </tr>\n",
       "    <tr>\n",
       "      <th>737</th>\n",
       "      <td>8</td>\n",
       "      <td>65</td>\n",
       "      <td>72</td>\n",
       "      <td>23</td>\n",
       "      <td>32.0</td>\n",
       "      <td>0.600</td>\n",
       "      <td>42</td>\n",
       "      <td>0</td>\n",
       "    </tr>\n",
       "    <tr>\n",
       "      <th>191</th>\n",
       "      <td>9</td>\n",
       "      <td>123</td>\n",
       "      <td>70</td>\n",
       "      <td>44</td>\n",
       "      <td>33.1</td>\n",
       "      <td>0.374</td>\n",
       "      <td>40</td>\n",
       "      <td>0</td>\n",
       "    </tr>\n",
       "    <tr>\n",
       "      <th>...</th>\n",
       "      <td>...</td>\n",
       "      <td>...</td>\n",
       "      <td>...</td>\n",
       "      <td>...</td>\n",
       "      <td>...</td>\n",
       "      <td>...</td>\n",
       "      <td>...</td>\n",
       "      <td>...</td>\n",
       "    </tr>\n",
       "    <tr>\n",
       "      <th>203</th>\n",
       "      <td>2</td>\n",
       "      <td>99</td>\n",
       "      <td>70</td>\n",
       "      <td>16</td>\n",
       "      <td>20.4</td>\n",
       "      <td>0.235</td>\n",
       "      <td>27</td>\n",
       "      <td>0</td>\n",
       "    </tr>\n",
       "    <tr>\n",
       "      <th>216</th>\n",
       "      <td>5</td>\n",
       "      <td>109</td>\n",
       "      <td>62</td>\n",
       "      <td>41</td>\n",
       "      <td>35.8</td>\n",
       "      <td>0.514</td>\n",
       "      <td>25</td>\n",
       "      <td>1</td>\n",
       "    </tr>\n",
       "    <tr>\n",
       "      <th>637</th>\n",
       "      <td>2</td>\n",
       "      <td>94</td>\n",
       "      <td>76</td>\n",
       "      <td>18</td>\n",
       "      <td>31.6</td>\n",
       "      <td>0.649</td>\n",
       "      <td>23</td>\n",
       "      <td>0</td>\n",
       "    </tr>\n",
       "    <tr>\n",
       "      <th>659</th>\n",
       "      <td>3</td>\n",
       "      <td>80</td>\n",
       "      <td>82</td>\n",
       "      <td>31</td>\n",
       "      <td>34.2</td>\n",
       "      <td>1.292</td>\n",
       "      <td>27</td>\n",
       "      <td>1</td>\n",
       "    </tr>\n",
       "    <tr>\n",
       "      <th>116</th>\n",
       "      <td>5</td>\n",
       "      <td>124</td>\n",
       "      <td>74</td>\n",
       "      <td>0</td>\n",
       "      <td>34.0</td>\n",
       "      <td>0.220</td>\n",
       "      <td>38</td>\n",
       "      <td>1</td>\n",
       "    </tr>\n",
       "  </tbody>\n",
       "</table>\n",
       "<p>154 rows × 8 columns</p>\n",
       "</div>"
      ],
      "text/plain": [
       "     Pregnancies  Glucose  BloodPressure  SkinThickness   BMI  \\\n",
       "173            1       79             60             42  43.5   \n",
       "253            0       86             68             32  35.8   \n",
       "207            5      162            104              0  37.7   \n",
       "737            8       65             72             23  32.0   \n",
       "191            9      123             70             44  33.1   \n",
       "..           ...      ...            ...            ...   ...   \n",
       "203            2       99             70             16  20.4   \n",
       "216            5      109             62             41  35.8   \n",
       "637            2       94             76             18  31.6   \n",
       "659            3       80             82             31  34.2   \n",
       "116            5      124             74              0  34.0   \n",
       "\n",
       "     DiabetesPedigreeFunction  Age  Outcome  \n",
       "173                     0.678   23        0  \n",
       "253                     0.238   25        0  \n",
       "207                     0.151   52        1  \n",
       "737                     0.600   42        0  \n",
       "191                     0.374   40        0  \n",
       "..                        ...  ...      ...  \n",
       "203                     0.235   27        0  \n",
       "216                     0.514   25        1  \n",
       "637                     0.649   23        0  \n",
       "659                     1.292   27        1  \n",
       "116                     0.220   38        1  \n",
       "\n",
       "[154 rows x 8 columns]"
      ]
     },
     "execution_count": 67,
     "metadata": {},
     "output_type": "execute_result"
    }
   ],
   "source": [
    "x_test"
   ]
  },
  {
   "cell_type": "code",
   "execution_count": 70,
   "id": "912397b1-0263-421d-96ec-d2fb2492a4b1",
   "metadata": {
    "tags": []
   },
   "outputs": [
    {
     "data": {
      "text/plain": [
       "75.98101341254302"
      ]
     },
     "execution_count": 70,
     "metadata": {},
     "output_type": "execute_result"
    }
   ],
   "source": [
    "-93.86269329937697+0*-1.61231282+86*1.2237354+68*-0.12879253+32*2.90430971+35.8*-0.38224949+0.238*16.83192384+25*-0.3959609"
   ]
  },
  {
   "cell_type": "code",
   "execution_count": 60,
   "id": "75d8d6b3-9dee-4e6a-8707-4e0810eb1bda",
   "metadata": {
    "tags": []
   },
   "outputs": [
    {
     "data": {
      "text/plain": [
       "-93.86269329937697"
      ]
     },
     "execution_count": 60,
     "metadata": {},
     "output_type": "execute_result"
    }
   ],
   "source": [
    "model.intercept_"
   ]
  },
  {
   "cell_type": "code",
   "execution_count": 16,
   "id": "beeb60b9-be5e-42c6-8384-b504c890236d",
   "metadata": {
    "tags": []
   },
   "outputs": [
    {
     "data": {
      "text/plain": [
       "101.13063734914303"
      ]
     },
     "execution_count": 16,
     "metadata": {},
     "output_type": "execute_result"
    }
   ],
   "source": [
    "#Check whether the Model is correct or not with single row values\n",
    "#y=mx+b or y=b+mx\n",
    "\n",
    "-93.86269329937697+1*-1.61231282+1.2237354*79+-0.12879253*60+2.90430971*42+-0.38224949*43.5+16.83192384*0.678+-0.3959609*23"
   ]
  },
  {
   "cell_type": "code",
   "execution_count": 68,
   "id": "365c054f-0771-44e6-99c9-a00405dd56d4",
   "metadata": {
    "tags": []
   },
   "outputs": [
    {
     "data": {
      "text/plain": [
       "101.13063734914303"
      ]
     },
     "execution_count": 68,
     "metadata": {},
     "output_type": "execute_result"
    }
   ],
   "source": [
    "-93.86269329937697+1*-1.61231282+79*1.2237354+60*-0.12879253+42*2.90430971+43.5*-0.38224949+0.678*16.83192384+23*-0.3959609"
   ]
  },
  {
   "cell_type": "code",
   "execution_count": 69,
   "id": "c47dd746-f7af-4969-ac5c-06334c8866d7",
   "metadata": {
    "tags": []
   },
   "outputs": [
    {
     "data": {
      "text/plain": [
       "array([101.13063699,  75.98101307,  43.37462139,  11.54447889,\n",
       "       138.72434056, 134.7468866 , 160.41532935, 112.55940355,\n",
       "       221.34432945,  91.00630615,  35.3680229 , 203.250708  ,\n",
       "       168.93149852,  88.03325319, 167.2077456 ,  74.9829459 ,\n",
       "        53.93333848,  99.28320499, 118.97578921, -37.42603687,\n",
       "        85.92407477,  26.43342235, 104.56233813, 168.20191506,\n",
       "       -13.83745018,  -2.72308204, 170.86495316, 100.87314101,\n",
       "       100.26818916,  75.56872563,  13.53238455, 173.71419756,\n",
       "        77.49429608, 107.68819784,  46.21102829,   8.48609825,\n",
       "       193.48179044,  77.38264935,  89.7582051 ,  14.06010952,\n",
       "        76.81022512, 143.50920746,  94.20035778,  -2.57251107,\n",
       "        -7.96694774,  75.00756057,  37.19113798,  -0.58647413,\n",
       "        73.68249607,  75.34621158,  -1.00762023,  15.68940043,\n",
       "       136.52793807, 200.7071402 ,  28.48738827, 135.95268936,\n",
       "        48.46969517,  61.98992859, 192.22370731,  76.87499021,\n",
       "        77.08033198, 146.47144139, 100.34539776, 128.13044008,\n",
       "         3.17610218,  88.72473712,  86.29212004,  31.74461004,\n",
       "        75.13114779,  28.76700019, -16.73797833, 110.13004118,\n",
       "        90.30349873, 102.49492225,  38.68325494, 149.25786847,\n",
       "        19.71026051, 172.6964945 ,  81.97667812,  16.86821638,\n",
       "        85.90384442,  57.70591986,  57.31815954, 117.54779711,\n",
       "       -17.85234393, 162.58572491, 111.73307386, 152.89356276,\n",
       "       190.11363152,  56.92626402, 149.973555  ,  67.40730534,\n",
       "         7.29220198, 131.16031793,  16.16537389, 129.79755712,\n",
       "        59.36477647, 112.40652292,  54.14508981,  64.95299075,\n",
       "       175.25463891, 120.70878505,  99.47793043, 137.16506414,\n",
       "        59.41274378, 127.00428741, 152.33530085, 171.79928772,\n",
       "        64.44931361,  34.94044945,  78.57598725,  60.49871632,\n",
       "        95.24334355, 119.86217891,  97.70965946,  -9.47822121,\n",
       "       174.90479952, -23.06587483,  60.9595906 , -36.61534607,\n",
       "        79.87024621,  41.1360659 , -24.42769014,  40.42256652,\n",
       "         2.02775631,  35.69081736,  65.42792721, -21.18931593,\n",
       "        68.07938676,  52.58093708,  86.42507135, 175.24794422,\n",
       "       128.69233819,  77.71318652, -52.11528049, 174.08303337,\n",
       "        62.82004187,  45.21279467, -13.52518326,  40.39671532,\n",
       "       194.7372484 ,  92.1625177 ,  86.97147898,  25.23639261,\n",
       "        10.16803107,  -6.74848685,  59.12357035, 129.9248854 ,\n",
       "        31.39002729,  46.98263179, 120.52983643,  50.17088481,\n",
       "        69.56210209,   8.85563066])"
      ]
     },
     "execution_count": 69,
     "metadata": {},
     "output_type": "execute_result"
    }
   ],
   "source": [
    "model.predict(x_test)"
   ]
  },
  {
   "cell_type": "code",
   "execution_count": 17,
   "id": "f47da16a-fee1-44a6-86d6-02babfab9824",
   "metadata": {
    "tags": []
   },
   "outputs": [],
   "source": [
    "#Hence array([101.13063699=101.13063734914303)"
   ]
  },
  {
   "cell_type": "code",
   "execution_count": 18,
   "id": "e36562c2-1066-45e3-8300-e21c6c7a9ec4",
   "metadata": {
    "tags": []
   },
   "outputs": [],
   "source": [
    "y_lr_train_pred=lr.predict(x_train)\n",
    "y_lr_test_pred=lr.predict(x_test)"
   ]
  },
  {
   "cell_type": "code",
   "execution_count": 19,
   "id": "e7cfa017-773e-4a4b-9b55-fa6df5b36d80",
   "metadata": {
    "tags": []
   },
   "outputs": [
    {
     "data": {
      "text/plain": [
       "array([-1.61231282,  1.2237354 , -0.12879253,  2.90430971, -0.38224949,\n",
       "       16.83192384, -0.3959609 , -7.09268018])"
      ]
     },
     "execution_count": 19,
     "metadata": {},
     "output_type": "execute_result"
    }
   ],
   "source": [
    "model.coef_"
   ]
  },
  {
   "cell_type": "code",
   "execution_count": 20,
   "id": "fa15b1ec-8800-4352-b0d4-38523a102b4e",
   "metadata": {
    "tags": []
   },
   "outputs": [
    {
     "data": {
      "text/plain": [
       "-93.86269329937697"
      ]
     },
     "execution_count": 20,
     "metadata": {},
     "output_type": "execute_result"
    }
   ],
   "source": [
    "model.intercept_"
   ]
  },
  {
   "cell_type": "code",
   "execution_count": 21,
   "id": "8138c37b-6fea-49fb-9914-baf2478caeb0",
   "metadata": {
    "tags": []
   },
   "outputs": [
    {
     "name": "stdout",
     "output_type": "stream",
     "text": [
      "[ 4.85339508e+01  1.27265699e+02  1.00890764e+02 -6.74917577e+00\n",
      "  1.13981062e+02  8.40823016e+01  9.29818672e+01  1.01318413e+02\n",
      "  1.03817601e+01  1.23800929e+02  8.12342408e+01  4.12680465e+01\n",
      "  1.96272512e+02  2.41590592e+01  6.86165006e+01  1.04235498e+02\n",
      " -1.16156597e+01  5.29160611e+01  8.20347168e+01  5.54908022e+01\n",
      "  9.19442053e+01  8.96916459e+01  1.79503490e+02  5.38568621e+01\n",
      "  1.12395434e+02 -5.76601619e+00  5.98188365e+01  1.67028005e+02\n",
      "  1.38815362e+02  1.24090149e+02  1.73482776e+02  1.40827968e+02\n",
      "  1.30470515e+02  1.54435305e+02 -7.76044385e+00  1.02984607e+02\n",
      "  1.63030488e+02  7.30212570e+01  3.87271781e+02  6.26355090e+01\n",
      "  6.24236900e+01  1.02712044e+02  7.03687813e+01  2.84183203e-01\n",
      "  1.24480164e+02  1.68928940e+02  3.00371306e+02  1.45448367e+02\n",
      "  3.69578659e+01  6.28423010e+01  1.24789466e+02  1.16738181e+02\n",
      "  5.79201553e+01  1.14113914e+02  5.18592771e+01  4.35394453e+01\n",
      "  3.98873689e+01  1.28430916e+01  1.07948724e+02  1.57454287e+02\n",
      "  1.29935499e+02  1.46713224e+02  2.19960614e+01  1.33280051e+02\n",
      "  1.83371051e+02  5.20103044e+01  2.04122313e+01  1.67520269e+02\n",
      "  2.70610394e+01  7.38827590e+01  4.67448517e+00  3.79618392e+01\n",
      "  1.32371290e+02 -3.46212648e+01  1.21281076e+02  1.92945787e+02\n",
      "  3.31767747e+01  1.62527393e+02  1.89554591e+02  3.70904212e+01\n",
      "  9.27208348e+00  8.81092482e+01  9.02024791e+01  1.87672352e+02\n",
      " -5.93670862e+01  6.99500772e+00  4.63884368e+01  1.03962324e+02\n",
      "  1.27151265e+02  8.02222921e+01  2.01954036e+01  2.12360401e+02\n",
      "  1.03428392e+02  7.19758038e+01  1.11582625e+02  8.39250805e+01\n",
      "  7.13159594e+01  1.60020725e+01  2.95294266e+01  7.66435447e+00\n",
      " -9.80762478e+00  1.00418249e+02  7.07578612e+01  1.07285418e+02\n",
      "  1.31150571e+02  1.28568077e+02  1.07070659e+02  6.17897915e+01\n",
      "  1.96538912e+01  1.50719501e+01  1.04345971e+02 -1.73941766e+00\n",
      "  2.25603235e+01  1.49599148e+02  1.09310829e+02  1.18639220e+02\n",
      "  2.74867754e+01  9.11647508e+01  1.31854439e+02  8.38525705e+01\n",
      "  8.49676170e+01  1.25219192e+01  1.30295902e+02  8.13481582e+01\n",
      "  3.77660028e+01  5.34202492e+01  5.90627574e+01  9.62476174e+01\n",
      "  9.49561911e+01  1.31147923e+02  6.18980139e+01 -5.85960620e+00\n",
      "  1.37446874e+02  4.68046182e+01  2.46152209e+02  1.59207018e+02\n",
      "  8.45941866e+01  6.88499799e+01  1.08252349e+02  6.15070928e+01\n",
      "  4.58034904e+01  6.11004914e+01 -2.67233853e+01  4.57559521e+01\n",
      "  3.24044383e+01  1.49742478e+02  7.31324653e+01  1.81834542e+02\n",
      " -5.52888556e+01  8.11138502e+01  9.92798726e+01  1.01883325e+02\n",
      "  2.12432057e+01  1.55783839e+01  1.07700037e+02  1.40455140e+02\n",
      "  5.19149295e+01  1.57333346e+02  4.48949396e+01  9.37551868e+01\n",
      "  4.06161174e+01  1.08018298e+02  1.02359643e+02  2.97965628e+01\n",
      "  5.87643515e+01  7.03204265e+01  4.89094849e+01  5.41722292e+01\n",
      "  6.94378771e+01  1.22172041e+01  8.95460495e+01  9.33049360e+01\n",
      "  1.23627437e+02  2.28037052e+02  1.45763020e+02  1.29695367e+02\n",
      "  1.16583825e+02  1.11771047e+02 -8.87121349e+00  1.97697197e+01\n",
      "  2.87215404e+01  1.63916143e+02  7.60357962e+01  1.52417367e+01\n",
      "  8.74290683e+01  5.81869327e+01  1.07818543e+02  7.82343919e+01\n",
      " -1.15416367e+01  6.69465275e+01  5.98496169e+01  1.20164980e+01\n",
      "  5.45554589e+01  2.07357655e+02  6.72133549e+01  1.55805543e+02\n",
      "  2.32683607e+02  8.65563611e+01  6.68007011e+01  7.71152424e+01\n",
      " -1.59332714e+01  5.49768653e+01  8.37595931e+01 -6.99955272e+01\n",
      "  4.43514389e+01  1.57461753e+02  1.06255599e+02  4.73156997e+01\n",
      "  5.17568595e+01  1.21248855e+02  6.52306404e+01  6.77325581e+01\n",
      "  3.33423110e+01  7.00119782e+01  1.92741513e+02  1.22728620e+02\n",
      "  1.60781602e+02  4.96481611e+01  1.43245768e+02  7.43680023e+01\n",
      "  1.62475352e+02  1.03364455e+02  1.48133570e+02  1.49370309e+02\n",
      "  1.22552917e+02  5.59956385e+01  5.57150046e+01 -1.40747821e+01\n",
      " -1.79352915e+01  1.17103504e+02 -6.02361041e+00  1.45859762e+01\n",
      "  2.16321292e+01  8.02295349e+00  1.29569677e+02  3.57765075e+01\n",
      "  9.51490057e+01  1.35373220e+02  1.10531862e+02  1.72240489e+02\n",
      "  7.14669648e+01  2.60369595e+01  1.10846011e+02 -6.58318520e+00\n",
      "  6.49843885e+01  7.47825699e+01  1.28660506e+02  1.15497749e+02\n",
      "  7.16979102e+01  7.59663013e+01  6.71065691e+00  5.01274281e+01\n",
      "  3.52854833e+00  4.92659221e+01  1.03351273e+02  3.13791503e+01\n",
      "  7.92148675e+01  1.61560055e+01  3.75285794e+01  8.13150062e+01\n",
      "  4.91771812e+01  8.96654874e+01  1.18283622e+02  1.76710707e+01\n",
      "  5.48971654e+01  3.04107630e+01 -2.82008718e+01  4.58419869e+01\n",
      "  7.59016957e+01  1.15113811e+02  4.67112559e+01  1.99010558e+02\n",
      "  1.25767126e+02  4.56218181e+01  1.70393022e+02  1.53309934e+02\n",
      "  2.54406802e+02  1.07866411e+02  8.03078809e+01  4.35675386e+01\n",
      "  4.19192204e+01  2.13886919e+02  1.34217735e+02  9.31083666e+01\n",
      "  1.09572696e+02  6.62595046e+01 -1.69775634e+01  1.94344855e+01\n",
      " -1.83310948e+01  2.60024872e+01  8.73957706e+01  7.40621161e+00\n",
      "  7.06961298e+00  8.45077371e+01  9.44950201e+01 -2.32288547e+01\n",
      "  1.05278438e+02  1.46871768e+01  9.65778912e+01  5.26525347e+01\n",
      "  4.67755105e+01  1.05863574e+02  5.04797727e+01  3.73938983e+01\n",
      " -1.65071314e+00  1.03761849e+02  3.84980025e+01  6.32052033e+01\n",
      "  2.87721676e+01  1.56596952e+02  5.95324653e+01  8.16844110e+01\n",
      "  6.86523784e+01  6.73406010e+00  1.98905467e+02  1.05593129e+02\n",
      "  1.33376764e+02  1.48502805e+02  7.40977728e+01  4.16105719e+01\n",
      "  2.29994100e+02 -6.06153982e+00  7.24913560e+01  5.74050437e+01\n",
      "  1.11473533e+02  6.30362481e+01  1.29915366e+02  1.36281502e+02\n",
      "  7.59674235e+01  3.61867892e+01 -7.40967825e+00  8.71522015e+01\n",
      "  1.69697460e+02  1.74120477e+02 -2.47514203e+01  1.19123722e+02\n",
      "  5.67545638e+01  2.65400788e+01  2.30313656e+01  1.48895060e+02\n",
      "  8.28729349e+00  2.46727896e+01 -5.42900578e+01  1.11044425e+02\n",
      "  1.45535117e+02  1.44033388e+02 -4.02232563e+00  2.49349894e+01\n",
      "  6.59065497e+01  7.70008054e+01  7.27190331e+01  1.17775128e+02\n",
      "  1.15192539e+02 -9.04442230e+00  4.25964345e+01  1.71153182e+02\n",
      "  4.03107688e+01  1.45193464e+02  9.63585092e+01 -1.16260476e+01\n",
      "  3.95823701e+01  1.42821076e+02  4.95580947e+01  1.42169454e+02\n",
      " -1.03456732e+01  6.43237739e-01  7.77695958e+01  1.46009751e+02\n",
      " -2.24012361e+01  1.89235935e+02  1.20654972e+02  2.50818021e+00\n",
      "  3.08781279e+01  9.56061441e+00  9.11837486e+01  1.26876490e+01\n",
      "  2.88555150e+01  2.17433011e+01  3.13926328e+00  1.05307869e+02\n",
      "  2.28589241e+02  9.59108835e+01  4.88914106e+01 -2.82524649e+01\n",
      "  1.27899443e+00  1.32305576e+02  1.83102163e+02  1.82385173e+02\n",
      "  3.00981635e+01  9.79808808e+01  1.41647857e+02  1.42700606e+02\n",
      "  7.54379121e+01  2.00268318e+02  1.65666532e+02  1.48457943e+01\n",
      " -5.39253642e+01  1.29251263e+02  6.77721583e+01 -3.00612497e+00\n",
      "  1.01272500e+02  7.94056130e+01  9.99790474e+01  7.67362674e+01\n",
      "  4.38751507e+01  1.66490261e+02  2.57871021e+01 -1.87856747e+01\n",
      "  1.06948859e+02  2.41291618e+01  1.59320167e+02  6.68856652e+01\n",
      "  6.88216754e+01  1.35643112e+02  5.58788610e+01  1.53522609e+02\n",
      "  1.48705619e+01  1.84584874e+02  7.19697100e+01  1.47273682e+02\n",
      "  4.11844250e+01  1.03779155e+02  5.13345939e+01  1.72842499e+02\n",
      "  1.56624495e+02  4.28054578e+01  8.26880727e+01  1.24392848e+02\n",
      "  7.90042431e+01  1.57175291e+02  1.10399068e+02  5.87097922e+01\n",
      "  1.18661356e+02  7.93839521e+01  1.23671888e+02  1.72356841e+02\n",
      " -3.16074143e+01  4.86110933e+01  1.52508498e+02  1.27477115e+02\n",
      "  8.85584279e+01 -3.67434003e+01 -6.07902036e+01  1.52536052e+02\n",
      "  2.35756110e+00  3.61379319e+01  1.60712209e+02  6.95780259e+01\n",
      "  5.15473404e+01  5.41720791e+00  6.00289894e+01  5.35401217e+01\n",
      "  1.23915211e+02  2.45908141e+01  6.82608912e+01  2.77721680e+01\n",
      "  4.93429731e+01  6.67367434e+01  1.22071213e+02  6.43922601e+01\n",
      "  9.40436267e+00 -7.51517917e+00  1.70500693e+02  8.94106824e+01\n",
      "  1.32782104e+01  1.17603263e+02  1.62229250e+02  5.39807280e+01\n",
      "  9.12066381e+01  9.47163348e+01  6.04133357e+01 -3.17470169e+00\n",
      "  1.00498533e+01  3.29691215e+01  1.23412300e+02  1.19856257e+02\n",
      "  6.63740548e+01  2.29843284e+01  8.20258252e+01  3.97538586e+01\n",
      "  9.95472991e+01  1.15208020e+02  4.73516170e+01  7.45226458e+01\n",
      "  3.27745698e+01  6.08030122e+01  1.77463933e+02  1.31865959e+02\n",
      "  1.07611065e+02  9.49968424e+01 -5.08813660e+01  1.49290635e+02\n",
      "  2.19952024e+01  4.21195627e+01  1.33137343e+02  1.88646032e+02\n",
      "  9.69960260e-01  7.20375633e+01  4.22972342e+00  2.77568010e+01\n",
      "  1.48621963e+02  4.92507190e+01  6.50332681e+01  1.57943458e+02\n",
      "  5.04779443e+01  1.96461403e+00  9.12092535e+01  1.08586801e+02\n",
      "  1.86889019e+02  2.51544946e+01  1.50286868e+02  1.78527758e+02\n",
      "  1.57901950e+01  9.63004262e+01  8.83932188e+01  4.49786691e+01\n",
      "  2.25989812e+02  7.02635214e+00  1.20730446e+02  9.13468493e+00\n",
      "  1.10559713e+02  8.29394322e+01  4.27947765e+01  1.10909720e+01\n",
      " -6.62219861e-01  1.29181539e+02  1.11947531e+00  3.42343200e+01\n",
      "  8.90962963e+01 -6.14375539e+01  1.18400217e+02  3.60569742e+01\n",
      "  1.17320074e+02 -1.93673578e+01  1.13452047e+02  8.10178740e+01\n",
      "  1.02352885e+02  2.80092115e+01 -2.75000485e+01 -3.16916259e+01\n",
      "  1.04948608e+02  5.88885073e+01 -1.92157627e+01  1.53102573e+02\n",
      "  6.45649892e+01  1.57627912e+02 -2.88605922e+00  4.38692645e+01\n",
      "  1.95722931e+01  8.20824527e+01  7.84773779e+01  1.80308513e+02\n",
      "  1.59621578e+02  1.40773354e+02  1.54819877e+02  1.11477916e+02\n",
      "  2.83112800e+01  4.50141560e+01  3.82663259e+01  1.02574413e+02\n",
      " -1.01465872e+01  6.89871082e+01  7.17356668e+01  4.31405271e+01\n",
      "  7.78075183e+01  1.12677085e+02 -5.31971455e+00  5.30942961e+01\n",
      "  5.44037076e+01 -2.35603716e+01  6.82418280e+01  6.03905173e+01\n",
      " -8.69906614e+00  1.01955602e+02  1.24941643e+02  4.62503986e+01\n",
      "  8.55522085e+01  1.59289251e+02  1.98847059e+01  1.25646621e+02\n",
      "  3.43306639e+00  9.15808704e+01  3.46593884e+01  9.31487514e+01\n",
      "  9.00624211e+01  6.52928243e+01  2.97586180e+01  1.89740086e+01\n",
      "  8.25246365e+01  1.22308531e+02  1.72165293e+02  1.86799606e+02\n",
      "  8.99544177e+01  7.90285596e+01  1.72922749e+02  6.41800166e+01\n",
      "  9.25344824e+01  1.33640365e+02  1.91101072e+01  8.49973437e+01\n",
      "  1.15082344e+02 -3.55847121e+01  2.96182012e+01  2.57914736e+02\n",
      "  1.36565722e+02  4.87422189e+01  7.90980970e+01  5.99271155e+01\n",
      "  5.10275498e+01  2.35615868e+01  1.60691725e+02 -2.16563192e+01\n",
      "  8.14736538e+01  5.37414317e+01] [101.13063699  75.98101307  43.37462139  11.54447889 138.72434056\n",
      " 134.7468866  160.41532935 112.55940355 221.34432945  91.00630615\n",
      "  35.3680229  203.250708   168.93149852  88.03325319 167.2077456\n",
      "  74.9829459   53.93333848  99.28320499 118.97578921 -37.42603687\n",
      "  85.92407477  26.43342235 104.56233813 168.20191506 -13.83745018\n",
      "  -2.72308204 170.86495316 100.87314101 100.26818916  75.56872563\n",
      "  13.53238455 173.71419756  77.49429608 107.68819784  46.21102829\n",
      "   8.48609825 193.48179044  77.38264935  89.7582051   14.06010952\n",
      "  76.81022512 143.50920746  94.20035778  -2.57251107  -7.96694774\n",
      "  75.00756057  37.19113798  -0.58647413  73.68249607  75.34621158\n",
      "  -1.00762023  15.68940043 136.52793807 200.7071402   28.48738827\n",
      " 135.95268936  48.46969517  61.98992859 192.22370731  76.87499021\n",
      "  77.08033198 146.47144139 100.34539776 128.13044008   3.17610218\n",
      "  88.72473712  86.29212004  31.74461004  75.13114779  28.76700019\n",
      " -16.73797833 110.13004118  90.30349873 102.49492225  38.68325494\n",
      " 149.25786847  19.71026051 172.6964945   81.97667812  16.86821638\n",
      "  85.90384442  57.70591986  57.31815954 117.54779711 -17.85234393\n",
      " 162.58572491 111.73307386 152.89356276 190.11363152  56.92626402\n",
      " 149.973555    67.40730534   7.29220198 131.16031793  16.16537389\n",
      " 129.79755712  59.36477647 112.40652292  54.14508981  64.95299075\n",
      " 175.25463891 120.70878505  99.47793043 137.16506414  59.41274378\n",
      " 127.00428741 152.33530085 171.79928772  64.44931361  34.94044945\n",
      "  78.57598725  60.49871632  95.24334355 119.86217891  97.70965946\n",
      "  -9.47822121 174.90479952 -23.06587483  60.9595906  -36.61534607\n",
      "  79.87024621  41.1360659  -24.42769014  40.42256652   2.02775631\n",
      "  35.69081736  65.42792721 -21.18931593  68.07938676  52.58093708\n",
      "  86.42507135 175.24794422 128.69233819  77.71318652 -52.11528049\n",
      " 174.08303337  62.82004187  45.21279467 -13.52518326  40.39671532\n",
      " 194.7372484   92.1625177   86.97147898  25.23639261  10.16803107\n",
      "  -6.74848685  59.12357035 129.9248854   31.39002729  46.98263179\n",
      " 120.52983643  50.17088481  69.56210209   8.85563066]\n"
     ]
    }
   ],
   "source": [
    "print(y_lr_train_pred, y_lr_test_pred)"
   ]
  },
  {
   "cell_type": "code",
   "execution_count": 30,
   "id": "549e5b97-2075-451f-b283-f6a970d82225",
   "metadata": {
    "tags": []
   },
   "outputs": [
    {
     "data": {
      "text/plain": [
       "array([ 4.85339508e+01,  1.27265699e+02,  1.00890764e+02, -6.74917577e+00,\n",
       "        1.13981062e+02,  8.40823016e+01,  9.29818672e+01,  1.01318413e+02,\n",
       "        1.03817601e+01,  1.23800929e+02,  8.12342408e+01,  4.12680465e+01,\n",
       "        1.96272512e+02,  2.41590592e+01,  6.86165006e+01,  1.04235498e+02,\n",
       "       -1.16156597e+01,  5.29160611e+01,  8.20347168e+01,  5.54908022e+01,\n",
       "        9.19442053e+01,  8.96916459e+01,  1.79503490e+02,  5.38568621e+01,\n",
       "        1.12395434e+02, -5.76601619e+00,  5.98188365e+01,  1.67028005e+02,\n",
       "        1.38815362e+02,  1.24090149e+02,  1.73482776e+02,  1.40827968e+02,\n",
       "        1.30470515e+02,  1.54435305e+02, -7.76044385e+00,  1.02984607e+02,\n",
       "        1.63030488e+02,  7.30212570e+01,  3.87271781e+02,  6.26355090e+01,\n",
       "        6.24236900e+01,  1.02712044e+02,  7.03687813e+01,  2.84183203e-01,\n",
       "        1.24480164e+02,  1.68928940e+02,  3.00371306e+02,  1.45448367e+02,\n",
       "        3.69578659e+01,  6.28423010e+01,  1.24789466e+02,  1.16738181e+02,\n",
       "        5.79201553e+01,  1.14113914e+02,  5.18592771e+01,  4.35394453e+01,\n",
       "        3.98873689e+01,  1.28430916e+01,  1.07948724e+02,  1.57454287e+02,\n",
       "        1.29935499e+02,  1.46713224e+02,  2.19960614e+01,  1.33280051e+02,\n",
       "        1.83371051e+02,  5.20103044e+01,  2.04122313e+01,  1.67520269e+02,\n",
       "        2.70610394e+01,  7.38827590e+01,  4.67448517e+00,  3.79618392e+01,\n",
       "        1.32371290e+02, -3.46212648e+01,  1.21281076e+02,  1.92945787e+02,\n",
       "        3.31767747e+01,  1.62527393e+02,  1.89554591e+02,  3.70904212e+01,\n",
       "        9.27208348e+00,  8.81092482e+01,  9.02024791e+01,  1.87672352e+02,\n",
       "       -5.93670862e+01,  6.99500772e+00,  4.63884368e+01,  1.03962324e+02,\n",
       "        1.27151265e+02,  8.02222921e+01,  2.01954036e+01,  2.12360401e+02,\n",
       "        1.03428392e+02,  7.19758038e+01,  1.11582625e+02,  8.39250805e+01,\n",
       "        7.13159594e+01,  1.60020725e+01,  2.95294266e+01,  7.66435447e+00,\n",
       "       -9.80762478e+00,  1.00418249e+02,  7.07578612e+01,  1.07285418e+02,\n",
       "        1.31150571e+02,  1.28568077e+02,  1.07070659e+02,  6.17897915e+01,\n",
       "        1.96538912e+01,  1.50719501e+01,  1.04345971e+02, -1.73941766e+00,\n",
       "        2.25603235e+01,  1.49599148e+02,  1.09310829e+02,  1.18639220e+02,\n",
       "        2.74867754e+01,  9.11647508e+01,  1.31854439e+02,  8.38525705e+01,\n",
       "        8.49676170e+01,  1.25219192e+01,  1.30295902e+02,  8.13481582e+01,\n",
       "        3.77660028e+01,  5.34202492e+01,  5.90627574e+01,  9.62476174e+01,\n",
       "        9.49561911e+01,  1.31147923e+02,  6.18980139e+01, -5.85960620e+00,\n",
       "        1.37446874e+02,  4.68046182e+01,  2.46152209e+02,  1.59207018e+02,\n",
       "        8.45941866e+01,  6.88499799e+01,  1.08252349e+02,  6.15070928e+01,\n",
       "        4.58034904e+01,  6.11004914e+01, -2.67233853e+01,  4.57559521e+01,\n",
       "        3.24044383e+01,  1.49742478e+02,  7.31324653e+01,  1.81834542e+02,\n",
       "       -5.52888556e+01,  8.11138502e+01,  9.92798726e+01,  1.01883325e+02,\n",
       "        2.12432057e+01,  1.55783839e+01,  1.07700037e+02,  1.40455140e+02,\n",
       "        5.19149295e+01,  1.57333346e+02,  4.48949396e+01,  9.37551868e+01,\n",
       "        4.06161174e+01,  1.08018298e+02,  1.02359643e+02,  2.97965628e+01,\n",
       "        5.87643515e+01,  7.03204265e+01,  4.89094849e+01,  5.41722292e+01,\n",
       "        6.94378771e+01,  1.22172041e+01,  8.95460495e+01,  9.33049360e+01,\n",
       "        1.23627437e+02,  2.28037052e+02,  1.45763020e+02,  1.29695367e+02,\n",
       "        1.16583825e+02,  1.11771047e+02, -8.87121349e+00,  1.97697197e+01,\n",
       "        2.87215404e+01,  1.63916143e+02,  7.60357962e+01,  1.52417367e+01,\n",
       "        8.74290683e+01,  5.81869327e+01,  1.07818543e+02,  7.82343919e+01,\n",
       "       -1.15416367e+01,  6.69465275e+01,  5.98496169e+01,  1.20164980e+01,\n",
       "        5.45554589e+01,  2.07357655e+02,  6.72133549e+01,  1.55805543e+02,\n",
       "        2.32683607e+02,  8.65563611e+01,  6.68007011e+01,  7.71152424e+01,\n",
       "       -1.59332714e+01,  5.49768653e+01,  8.37595931e+01, -6.99955272e+01,\n",
       "        4.43514389e+01,  1.57461753e+02,  1.06255599e+02,  4.73156997e+01,\n",
       "        5.17568595e+01,  1.21248855e+02,  6.52306404e+01,  6.77325581e+01,\n",
       "        3.33423110e+01,  7.00119782e+01,  1.92741513e+02,  1.22728620e+02,\n",
       "        1.60781602e+02,  4.96481611e+01,  1.43245768e+02,  7.43680023e+01,\n",
       "        1.62475352e+02,  1.03364455e+02,  1.48133570e+02,  1.49370309e+02,\n",
       "        1.22552917e+02,  5.59956385e+01,  5.57150046e+01, -1.40747821e+01,\n",
       "       -1.79352915e+01,  1.17103504e+02, -6.02361041e+00,  1.45859762e+01,\n",
       "        2.16321292e+01,  8.02295349e+00,  1.29569677e+02,  3.57765075e+01,\n",
       "        9.51490057e+01,  1.35373220e+02,  1.10531862e+02,  1.72240489e+02,\n",
       "        7.14669648e+01,  2.60369595e+01,  1.10846011e+02, -6.58318520e+00,\n",
       "        6.49843885e+01,  7.47825699e+01,  1.28660506e+02,  1.15497749e+02,\n",
       "        7.16979102e+01,  7.59663013e+01,  6.71065691e+00,  5.01274281e+01,\n",
       "        3.52854833e+00,  4.92659221e+01,  1.03351273e+02,  3.13791503e+01,\n",
       "        7.92148675e+01,  1.61560055e+01,  3.75285794e+01,  8.13150062e+01,\n",
       "        4.91771812e+01,  8.96654874e+01,  1.18283622e+02,  1.76710707e+01,\n",
       "        5.48971654e+01,  3.04107630e+01, -2.82008718e+01,  4.58419869e+01,\n",
       "        7.59016957e+01,  1.15113811e+02,  4.67112559e+01,  1.99010558e+02,\n",
       "        1.25767126e+02,  4.56218181e+01,  1.70393022e+02,  1.53309934e+02,\n",
       "        2.54406802e+02,  1.07866411e+02,  8.03078809e+01,  4.35675386e+01,\n",
       "        4.19192204e+01,  2.13886919e+02,  1.34217735e+02,  9.31083666e+01,\n",
       "        1.09572696e+02,  6.62595046e+01, -1.69775634e+01,  1.94344855e+01,\n",
       "       -1.83310948e+01,  2.60024872e+01,  8.73957706e+01,  7.40621161e+00,\n",
       "        7.06961298e+00,  8.45077371e+01,  9.44950201e+01, -2.32288547e+01,\n",
       "        1.05278438e+02,  1.46871768e+01,  9.65778912e+01,  5.26525347e+01,\n",
       "        4.67755105e+01,  1.05863574e+02,  5.04797727e+01,  3.73938983e+01,\n",
       "       -1.65071314e+00,  1.03761849e+02,  3.84980025e+01,  6.32052033e+01,\n",
       "        2.87721676e+01,  1.56596952e+02,  5.95324653e+01,  8.16844110e+01,\n",
       "        6.86523784e+01,  6.73406010e+00,  1.98905467e+02,  1.05593129e+02,\n",
       "        1.33376764e+02,  1.48502805e+02,  7.40977728e+01,  4.16105719e+01,\n",
       "        2.29994100e+02, -6.06153982e+00,  7.24913560e+01,  5.74050437e+01,\n",
       "        1.11473533e+02,  6.30362481e+01,  1.29915366e+02,  1.36281502e+02,\n",
       "        7.59674235e+01,  3.61867892e+01, -7.40967825e+00,  8.71522015e+01,\n",
       "        1.69697460e+02,  1.74120477e+02, -2.47514203e+01,  1.19123722e+02,\n",
       "        5.67545638e+01,  2.65400788e+01,  2.30313656e+01,  1.48895060e+02,\n",
       "        8.28729349e+00,  2.46727896e+01, -5.42900578e+01,  1.11044425e+02,\n",
       "        1.45535117e+02,  1.44033388e+02, -4.02232563e+00,  2.49349894e+01,\n",
       "        6.59065497e+01,  7.70008054e+01,  7.27190331e+01,  1.17775128e+02,\n",
       "        1.15192539e+02, -9.04442230e+00,  4.25964345e+01,  1.71153182e+02,\n",
       "        4.03107688e+01,  1.45193464e+02,  9.63585092e+01, -1.16260476e+01,\n",
       "        3.95823701e+01,  1.42821076e+02,  4.95580947e+01,  1.42169454e+02,\n",
       "       -1.03456732e+01,  6.43237739e-01,  7.77695958e+01,  1.46009751e+02,\n",
       "       -2.24012361e+01,  1.89235935e+02,  1.20654972e+02,  2.50818021e+00,\n",
       "        3.08781279e+01,  9.56061441e+00,  9.11837486e+01,  1.26876490e+01,\n",
       "        2.88555150e+01,  2.17433011e+01,  3.13926328e+00,  1.05307869e+02,\n",
       "        2.28589241e+02,  9.59108835e+01,  4.88914106e+01, -2.82524649e+01,\n",
       "        1.27899443e+00,  1.32305576e+02,  1.83102163e+02,  1.82385173e+02,\n",
       "        3.00981635e+01,  9.79808808e+01,  1.41647857e+02,  1.42700606e+02,\n",
       "        7.54379121e+01,  2.00268318e+02,  1.65666532e+02,  1.48457943e+01,\n",
       "       -5.39253642e+01,  1.29251263e+02,  6.77721583e+01, -3.00612497e+00,\n",
       "        1.01272500e+02,  7.94056130e+01,  9.99790474e+01,  7.67362674e+01,\n",
       "        4.38751507e+01,  1.66490261e+02,  2.57871021e+01, -1.87856747e+01,\n",
       "        1.06948859e+02,  2.41291618e+01,  1.59320167e+02,  6.68856652e+01,\n",
       "        6.88216754e+01,  1.35643112e+02,  5.58788610e+01,  1.53522609e+02,\n",
       "        1.48705619e+01,  1.84584874e+02,  7.19697100e+01,  1.47273682e+02,\n",
       "        4.11844250e+01,  1.03779155e+02,  5.13345939e+01,  1.72842499e+02,\n",
       "        1.56624495e+02,  4.28054578e+01,  8.26880727e+01,  1.24392848e+02,\n",
       "        7.90042431e+01,  1.57175291e+02,  1.10399068e+02,  5.87097922e+01,\n",
       "        1.18661356e+02,  7.93839521e+01,  1.23671888e+02,  1.72356841e+02,\n",
       "       -3.16074143e+01,  4.86110933e+01,  1.52508498e+02,  1.27477115e+02,\n",
       "        8.85584279e+01, -3.67434003e+01, -6.07902036e+01,  1.52536052e+02,\n",
       "        2.35756110e+00,  3.61379319e+01,  1.60712209e+02,  6.95780259e+01,\n",
       "        5.15473404e+01,  5.41720791e+00,  6.00289894e+01,  5.35401217e+01,\n",
       "        1.23915211e+02,  2.45908141e+01,  6.82608912e+01,  2.77721680e+01,\n",
       "        4.93429731e+01,  6.67367434e+01,  1.22071213e+02,  6.43922601e+01,\n",
       "        9.40436267e+00, -7.51517917e+00,  1.70500693e+02,  8.94106824e+01,\n",
       "        1.32782104e+01,  1.17603263e+02,  1.62229250e+02,  5.39807280e+01,\n",
       "        9.12066381e+01,  9.47163348e+01,  6.04133357e+01, -3.17470169e+00,\n",
       "        1.00498533e+01,  3.29691215e+01,  1.23412300e+02,  1.19856257e+02,\n",
       "        6.63740548e+01,  2.29843284e+01,  8.20258252e+01,  3.97538586e+01,\n",
       "        9.95472991e+01,  1.15208020e+02,  4.73516170e+01,  7.45226458e+01,\n",
       "        3.27745698e+01,  6.08030122e+01,  1.77463933e+02,  1.31865959e+02,\n",
       "        1.07611065e+02,  9.49968424e+01, -5.08813660e+01,  1.49290635e+02,\n",
       "        2.19952024e+01,  4.21195627e+01,  1.33137343e+02,  1.88646032e+02,\n",
       "        9.69960260e-01,  7.20375633e+01,  4.22972342e+00,  2.77568010e+01,\n",
       "        1.48621963e+02,  4.92507190e+01,  6.50332681e+01,  1.57943458e+02,\n",
       "        5.04779443e+01,  1.96461403e+00,  9.12092535e+01,  1.08586801e+02,\n",
       "        1.86889019e+02,  2.51544946e+01,  1.50286868e+02,  1.78527758e+02,\n",
       "        1.57901950e+01,  9.63004262e+01,  8.83932188e+01,  4.49786691e+01,\n",
       "        2.25989812e+02,  7.02635214e+00,  1.20730446e+02,  9.13468493e+00,\n",
       "        1.10559713e+02,  8.29394322e+01,  4.27947765e+01,  1.10909720e+01,\n",
       "       -6.62219861e-01,  1.29181539e+02,  1.11947531e+00,  3.42343200e+01,\n",
       "        8.90962963e+01, -6.14375539e+01,  1.18400217e+02,  3.60569742e+01,\n",
       "        1.17320074e+02, -1.93673578e+01,  1.13452047e+02,  8.10178740e+01,\n",
       "        1.02352885e+02,  2.80092115e+01, -2.75000485e+01, -3.16916259e+01,\n",
       "        1.04948608e+02,  5.88885073e+01, -1.92157627e+01,  1.53102573e+02,\n",
       "        6.45649892e+01,  1.57627912e+02, -2.88605922e+00,  4.38692645e+01,\n",
       "        1.95722931e+01,  8.20824527e+01,  7.84773779e+01,  1.80308513e+02,\n",
       "        1.59621578e+02,  1.40773354e+02,  1.54819877e+02,  1.11477916e+02,\n",
       "        2.83112800e+01,  4.50141560e+01,  3.82663259e+01,  1.02574413e+02,\n",
       "       -1.01465872e+01,  6.89871082e+01,  7.17356668e+01,  4.31405271e+01,\n",
       "        7.78075183e+01,  1.12677085e+02, -5.31971455e+00,  5.30942961e+01,\n",
       "        5.44037076e+01, -2.35603716e+01,  6.82418280e+01,  6.03905173e+01,\n",
       "       -8.69906614e+00,  1.01955602e+02,  1.24941643e+02,  4.62503986e+01,\n",
       "        8.55522085e+01,  1.59289251e+02,  1.98847059e+01,  1.25646621e+02,\n",
       "        3.43306639e+00,  9.15808704e+01,  3.46593884e+01,  9.31487514e+01,\n",
       "        9.00624211e+01,  6.52928243e+01,  2.97586180e+01,  1.89740086e+01,\n",
       "        8.25246365e+01,  1.22308531e+02,  1.72165293e+02,  1.86799606e+02,\n",
       "        8.99544177e+01,  7.90285596e+01,  1.72922749e+02,  6.41800166e+01,\n",
       "        9.25344824e+01,  1.33640365e+02,  1.91101072e+01,  8.49973437e+01,\n",
       "        1.15082344e+02, -3.55847121e+01,  2.96182012e+01,  2.57914736e+02,\n",
       "        1.36565722e+02,  4.87422189e+01,  7.90980970e+01,  5.99271155e+01,\n",
       "        5.10275498e+01,  2.35615868e+01,  1.60691725e+02, -2.16563192e+01,\n",
       "        8.14736538e+01,  5.37414317e+01])"
      ]
     },
     "execution_count": 30,
     "metadata": {},
     "output_type": "execute_result"
    }
   ],
   "source": [
    "y_lr_train_pred"
   ]
  },
  {
   "cell_type": "code",
   "execution_count": 19,
   "id": "5a872a24-9dcd-45bc-8c8c-4eb63e60f64c",
   "metadata": {
    "tags": []
   },
   "outputs": [
    {
     "data": {
      "text/plain": [
       "array([101.13063699,  75.98101307,  43.37462139,  11.54447889,\n",
       "       138.72434056, 134.7468866 , 160.41532935, 112.55940355,\n",
       "       221.34432945,  91.00630615,  35.3680229 , 203.250708  ,\n",
       "       168.93149852,  88.03325319, 167.2077456 ,  74.9829459 ,\n",
       "        53.93333848,  99.28320499, 118.97578921, -37.42603687,\n",
       "        85.92407477,  26.43342235, 104.56233813, 168.20191506,\n",
       "       -13.83745018,  -2.72308204, 170.86495316, 100.87314101,\n",
       "       100.26818916,  75.56872563,  13.53238455, 173.71419756,\n",
       "        77.49429608, 107.68819784,  46.21102829,   8.48609825,\n",
       "       193.48179044,  77.38264935,  89.7582051 ,  14.06010952,\n",
       "        76.81022512, 143.50920746,  94.20035778,  -2.57251107,\n",
       "        -7.96694774,  75.00756057,  37.19113798,  -0.58647413,\n",
       "        73.68249607,  75.34621158,  -1.00762023,  15.68940043,\n",
       "       136.52793807, 200.7071402 ,  28.48738827, 135.95268936,\n",
       "        48.46969517,  61.98992859, 192.22370731,  76.87499021,\n",
       "        77.08033198, 146.47144139, 100.34539776, 128.13044008,\n",
       "         3.17610218,  88.72473712,  86.29212004,  31.74461004,\n",
       "        75.13114779,  28.76700019, -16.73797833, 110.13004118,\n",
       "        90.30349873, 102.49492225,  38.68325494, 149.25786847,\n",
       "        19.71026051, 172.6964945 ,  81.97667812,  16.86821638,\n",
       "        85.90384442,  57.70591986,  57.31815954, 117.54779711,\n",
       "       -17.85234393, 162.58572491, 111.73307386, 152.89356276,\n",
       "       190.11363152,  56.92626402, 149.973555  ,  67.40730534,\n",
       "         7.29220198, 131.16031793,  16.16537389, 129.79755712,\n",
       "        59.36477647, 112.40652292,  54.14508981,  64.95299075,\n",
       "       175.25463891, 120.70878505,  99.47793043, 137.16506414,\n",
       "        59.41274378, 127.00428741, 152.33530085, 171.79928772,\n",
       "        64.44931361,  34.94044945,  78.57598725,  60.49871632,\n",
       "        95.24334355, 119.86217891,  97.70965946,  -9.47822121,\n",
       "       174.90479952, -23.06587483,  60.9595906 , -36.61534607,\n",
       "        79.87024621,  41.1360659 , -24.42769014,  40.42256652,\n",
       "         2.02775631,  35.69081736,  65.42792721, -21.18931593,\n",
       "        68.07938676,  52.58093708,  86.42507135, 175.24794422,\n",
       "       128.69233819,  77.71318652, -52.11528049, 174.08303337,\n",
       "        62.82004187,  45.21279467, -13.52518326,  40.39671532,\n",
       "       194.7372484 ,  92.1625177 ,  86.97147898,  25.23639261,\n",
       "        10.16803107,  -6.74848685,  59.12357035, 129.9248854 ,\n",
       "        31.39002729,  46.98263179, 120.52983643,  50.17088481,\n",
       "        69.56210209,   8.85563066])"
      ]
     },
     "execution_count": 19,
     "metadata": {},
     "output_type": "execute_result"
    }
   ],
   "source": [
    "y_lr_test_pred"
   ]
  },
  {
   "cell_type": "raw",
   "id": "e5b9bfb8-3b40-420b-9cf0-66bd6b22c95a",
   "metadata": {},
   "source": [
    "Evaluate Model"
   ]
  },
  {
   "cell_type": "code",
   "execution_count": 22,
   "id": "42ce35c0-fff0-42ea-9c55-d8705e0cf873",
   "metadata": {
    "tags": []
   },
   "outputs": [
    {
     "data": {
      "text/plain": [
       "660      0\n",
       "69     100\n",
       "85     125\n",
       "219      0\n",
       "712      0\n",
       "      ... \n",
       "578      0\n",
       "53     300\n",
       "350      0\n",
       "79       0\n",
       "520     66\n",
       "Name: Insulin, Length: 614, dtype: int64"
      ]
     },
     "execution_count": 22,
     "metadata": {},
     "output_type": "execute_result"
    }
   ],
   "source": [
    "y_train"
   ]
  },
  {
   "cell_type": "code",
   "execution_count": 24,
   "id": "541c45e6-0f3f-48a7-818f-ae24a2c50643",
   "metadata": {
    "tags": []
   },
   "outputs": [
    {
     "data": {
      "text/plain": [
       "array([ 4.85339508e+01,  1.27265699e+02,  1.00890764e+02, -6.74917577e+00,\n",
       "        1.13981062e+02,  8.40823016e+01,  9.29818672e+01,  1.01318413e+02,\n",
       "        1.03817601e+01,  1.23800929e+02,  8.12342408e+01,  4.12680465e+01,\n",
       "        1.96272512e+02,  2.41590592e+01,  6.86165006e+01,  1.04235498e+02,\n",
       "       -1.16156597e+01,  5.29160611e+01,  8.20347168e+01,  5.54908022e+01,\n",
       "        9.19442053e+01,  8.96916459e+01,  1.79503490e+02,  5.38568621e+01,\n",
       "        1.12395434e+02, -5.76601619e+00,  5.98188365e+01,  1.67028005e+02,\n",
       "        1.38815362e+02,  1.24090149e+02,  1.73482776e+02,  1.40827968e+02,\n",
       "        1.30470515e+02,  1.54435305e+02, -7.76044385e+00,  1.02984607e+02,\n",
       "        1.63030488e+02,  7.30212570e+01,  3.87271781e+02,  6.26355090e+01,\n",
       "        6.24236900e+01,  1.02712044e+02,  7.03687813e+01,  2.84183203e-01,\n",
       "        1.24480164e+02,  1.68928940e+02,  3.00371306e+02,  1.45448367e+02,\n",
       "        3.69578659e+01,  6.28423010e+01,  1.24789466e+02,  1.16738181e+02,\n",
       "        5.79201553e+01,  1.14113914e+02,  5.18592771e+01,  4.35394453e+01,\n",
       "        3.98873689e+01,  1.28430916e+01,  1.07948724e+02,  1.57454287e+02,\n",
       "        1.29935499e+02,  1.46713224e+02,  2.19960614e+01,  1.33280051e+02,\n",
       "        1.83371051e+02,  5.20103044e+01,  2.04122313e+01,  1.67520269e+02,\n",
       "        2.70610394e+01,  7.38827590e+01,  4.67448517e+00,  3.79618392e+01,\n",
       "        1.32371290e+02, -3.46212648e+01,  1.21281076e+02,  1.92945787e+02,\n",
       "        3.31767747e+01,  1.62527393e+02,  1.89554591e+02,  3.70904212e+01,\n",
       "        9.27208348e+00,  8.81092482e+01,  9.02024791e+01,  1.87672352e+02,\n",
       "       -5.93670862e+01,  6.99500772e+00,  4.63884368e+01,  1.03962324e+02,\n",
       "        1.27151265e+02,  8.02222921e+01,  2.01954036e+01,  2.12360401e+02,\n",
       "        1.03428392e+02,  7.19758038e+01,  1.11582625e+02,  8.39250805e+01,\n",
       "        7.13159594e+01,  1.60020725e+01,  2.95294266e+01,  7.66435447e+00,\n",
       "       -9.80762478e+00,  1.00418249e+02,  7.07578612e+01,  1.07285418e+02,\n",
       "        1.31150571e+02,  1.28568077e+02,  1.07070659e+02,  6.17897915e+01,\n",
       "        1.96538912e+01,  1.50719501e+01,  1.04345971e+02, -1.73941766e+00,\n",
       "        2.25603235e+01,  1.49599148e+02,  1.09310829e+02,  1.18639220e+02,\n",
       "        2.74867754e+01,  9.11647508e+01,  1.31854439e+02,  8.38525705e+01,\n",
       "        8.49676170e+01,  1.25219192e+01,  1.30295902e+02,  8.13481582e+01,\n",
       "        3.77660028e+01,  5.34202492e+01,  5.90627574e+01,  9.62476174e+01,\n",
       "        9.49561911e+01,  1.31147923e+02,  6.18980139e+01, -5.85960620e+00,\n",
       "        1.37446874e+02,  4.68046182e+01,  2.46152209e+02,  1.59207018e+02,\n",
       "        8.45941866e+01,  6.88499799e+01,  1.08252349e+02,  6.15070928e+01,\n",
       "        4.58034904e+01,  6.11004914e+01, -2.67233853e+01,  4.57559521e+01,\n",
       "        3.24044383e+01,  1.49742478e+02,  7.31324653e+01,  1.81834542e+02,\n",
       "       -5.52888556e+01,  8.11138502e+01,  9.92798726e+01,  1.01883325e+02,\n",
       "        2.12432057e+01,  1.55783839e+01,  1.07700037e+02,  1.40455140e+02,\n",
       "        5.19149295e+01,  1.57333346e+02,  4.48949396e+01,  9.37551868e+01,\n",
       "        4.06161174e+01,  1.08018298e+02,  1.02359643e+02,  2.97965628e+01,\n",
       "        5.87643515e+01,  7.03204265e+01,  4.89094849e+01,  5.41722292e+01,\n",
       "        6.94378771e+01,  1.22172041e+01,  8.95460495e+01,  9.33049360e+01,\n",
       "        1.23627437e+02,  2.28037052e+02,  1.45763020e+02,  1.29695367e+02,\n",
       "        1.16583825e+02,  1.11771047e+02, -8.87121349e+00,  1.97697197e+01,\n",
       "        2.87215404e+01,  1.63916143e+02,  7.60357962e+01,  1.52417367e+01,\n",
       "        8.74290683e+01,  5.81869327e+01,  1.07818543e+02,  7.82343919e+01,\n",
       "       -1.15416367e+01,  6.69465275e+01,  5.98496169e+01,  1.20164980e+01,\n",
       "        5.45554589e+01,  2.07357655e+02,  6.72133549e+01,  1.55805543e+02,\n",
       "        2.32683607e+02,  8.65563611e+01,  6.68007011e+01,  7.71152424e+01,\n",
       "       -1.59332714e+01,  5.49768653e+01,  8.37595931e+01, -6.99955272e+01,\n",
       "        4.43514389e+01,  1.57461753e+02,  1.06255599e+02,  4.73156997e+01,\n",
       "        5.17568595e+01,  1.21248855e+02,  6.52306404e+01,  6.77325581e+01,\n",
       "        3.33423110e+01,  7.00119782e+01,  1.92741513e+02,  1.22728620e+02,\n",
       "        1.60781602e+02,  4.96481611e+01,  1.43245768e+02,  7.43680023e+01,\n",
       "        1.62475352e+02,  1.03364455e+02,  1.48133570e+02,  1.49370309e+02,\n",
       "        1.22552917e+02,  5.59956385e+01,  5.57150046e+01, -1.40747821e+01,\n",
       "       -1.79352915e+01,  1.17103504e+02, -6.02361041e+00,  1.45859762e+01,\n",
       "        2.16321292e+01,  8.02295349e+00,  1.29569677e+02,  3.57765075e+01,\n",
       "        9.51490057e+01,  1.35373220e+02,  1.10531862e+02,  1.72240489e+02,\n",
       "        7.14669648e+01,  2.60369595e+01,  1.10846011e+02, -6.58318520e+00,\n",
       "        6.49843885e+01,  7.47825699e+01,  1.28660506e+02,  1.15497749e+02,\n",
       "        7.16979102e+01,  7.59663013e+01,  6.71065691e+00,  5.01274281e+01,\n",
       "        3.52854833e+00,  4.92659221e+01,  1.03351273e+02,  3.13791503e+01,\n",
       "        7.92148675e+01,  1.61560055e+01,  3.75285794e+01,  8.13150062e+01,\n",
       "        4.91771812e+01,  8.96654874e+01,  1.18283622e+02,  1.76710707e+01,\n",
       "        5.48971654e+01,  3.04107630e+01, -2.82008718e+01,  4.58419869e+01,\n",
       "        7.59016957e+01,  1.15113811e+02,  4.67112559e+01,  1.99010558e+02,\n",
       "        1.25767126e+02,  4.56218181e+01,  1.70393022e+02,  1.53309934e+02,\n",
       "        2.54406802e+02,  1.07866411e+02,  8.03078809e+01,  4.35675386e+01,\n",
       "        4.19192204e+01,  2.13886919e+02,  1.34217735e+02,  9.31083666e+01,\n",
       "        1.09572696e+02,  6.62595046e+01, -1.69775634e+01,  1.94344855e+01,\n",
       "       -1.83310948e+01,  2.60024872e+01,  8.73957706e+01,  7.40621161e+00,\n",
       "        7.06961298e+00,  8.45077371e+01,  9.44950201e+01, -2.32288547e+01,\n",
       "        1.05278438e+02,  1.46871768e+01,  9.65778912e+01,  5.26525347e+01,\n",
       "        4.67755105e+01,  1.05863574e+02,  5.04797727e+01,  3.73938983e+01,\n",
       "       -1.65071314e+00,  1.03761849e+02,  3.84980025e+01,  6.32052033e+01,\n",
       "        2.87721676e+01,  1.56596952e+02,  5.95324653e+01,  8.16844110e+01,\n",
       "        6.86523784e+01,  6.73406010e+00,  1.98905467e+02,  1.05593129e+02,\n",
       "        1.33376764e+02,  1.48502805e+02,  7.40977728e+01,  4.16105719e+01,\n",
       "        2.29994100e+02, -6.06153982e+00,  7.24913560e+01,  5.74050437e+01,\n",
       "        1.11473533e+02,  6.30362481e+01,  1.29915366e+02,  1.36281502e+02,\n",
       "        7.59674235e+01,  3.61867892e+01, -7.40967825e+00,  8.71522015e+01,\n",
       "        1.69697460e+02,  1.74120477e+02, -2.47514203e+01,  1.19123722e+02,\n",
       "        5.67545638e+01,  2.65400788e+01,  2.30313656e+01,  1.48895060e+02,\n",
       "        8.28729349e+00,  2.46727896e+01, -5.42900578e+01,  1.11044425e+02,\n",
       "        1.45535117e+02,  1.44033388e+02, -4.02232563e+00,  2.49349894e+01,\n",
       "        6.59065497e+01,  7.70008054e+01,  7.27190331e+01,  1.17775128e+02,\n",
       "        1.15192539e+02, -9.04442230e+00,  4.25964345e+01,  1.71153182e+02,\n",
       "        4.03107688e+01,  1.45193464e+02,  9.63585092e+01, -1.16260476e+01,\n",
       "        3.95823701e+01,  1.42821076e+02,  4.95580947e+01,  1.42169454e+02,\n",
       "       -1.03456732e+01,  6.43237739e-01,  7.77695958e+01,  1.46009751e+02,\n",
       "       -2.24012361e+01,  1.89235935e+02,  1.20654972e+02,  2.50818021e+00,\n",
       "        3.08781279e+01,  9.56061441e+00,  9.11837486e+01,  1.26876490e+01,\n",
       "        2.88555150e+01,  2.17433011e+01,  3.13926328e+00,  1.05307869e+02,\n",
       "        2.28589241e+02,  9.59108835e+01,  4.88914106e+01, -2.82524649e+01,\n",
       "        1.27899443e+00,  1.32305576e+02,  1.83102163e+02,  1.82385173e+02,\n",
       "        3.00981635e+01,  9.79808808e+01,  1.41647857e+02,  1.42700606e+02,\n",
       "        7.54379121e+01,  2.00268318e+02,  1.65666532e+02,  1.48457943e+01,\n",
       "       -5.39253642e+01,  1.29251263e+02,  6.77721583e+01, -3.00612497e+00,\n",
       "        1.01272500e+02,  7.94056130e+01,  9.99790474e+01,  7.67362674e+01,\n",
       "        4.38751507e+01,  1.66490261e+02,  2.57871021e+01, -1.87856747e+01,\n",
       "        1.06948859e+02,  2.41291618e+01,  1.59320167e+02,  6.68856652e+01,\n",
       "        6.88216754e+01,  1.35643112e+02,  5.58788610e+01,  1.53522609e+02,\n",
       "        1.48705619e+01,  1.84584874e+02,  7.19697100e+01,  1.47273682e+02,\n",
       "        4.11844250e+01,  1.03779155e+02,  5.13345939e+01,  1.72842499e+02,\n",
       "        1.56624495e+02,  4.28054578e+01,  8.26880727e+01,  1.24392848e+02,\n",
       "        7.90042431e+01,  1.57175291e+02,  1.10399068e+02,  5.87097922e+01,\n",
       "        1.18661356e+02,  7.93839521e+01,  1.23671888e+02,  1.72356841e+02,\n",
       "       -3.16074143e+01,  4.86110933e+01,  1.52508498e+02,  1.27477115e+02,\n",
       "        8.85584279e+01, -3.67434003e+01, -6.07902036e+01,  1.52536052e+02,\n",
       "        2.35756110e+00,  3.61379319e+01,  1.60712209e+02,  6.95780259e+01,\n",
       "        5.15473404e+01,  5.41720791e+00,  6.00289894e+01,  5.35401217e+01,\n",
       "        1.23915211e+02,  2.45908141e+01,  6.82608912e+01,  2.77721680e+01,\n",
       "        4.93429731e+01,  6.67367434e+01,  1.22071213e+02,  6.43922601e+01,\n",
       "        9.40436267e+00, -7.51517917e+00,  1.70500693e+02,  8.94106824e+01,\n",
       "        1.32782104e+01,  1.17603263e+02,  1.62229250e+02,  5.39807280e+01,\n",
       "        9.12066381e+01,  9.47163348e+01,  6.04133357e+01, -3.17470169e+00,\n",
       "        1.00498533e+01,  3.29691215e+01,  1.23412300e+02,  1.19856257e+02,\n",
       "        6.63740548e+01,  2.29843284e+01,  8.20258252e+01,  3.97538586e+01,\n",
       "        9.95472991e+01,  1.15208020e+02,  4.73516170e+01,  7.45226458e+01,\n",
       "        3.27745698e+01,  6.08030122e+01,  1.77463933e+02,  1.31865959e+02,\n",
       "        1.07611065e+02,  9.49968424e+01, -5.08813660e+01,  1.49290635e+02,\n",
       "        2.19952024e+01,  4.21195627e+01,  1.33137343e+02,  1.88646032e+02,\n",
       "        9.69960260e-01,  7.20375633e+01,  4.22972342e+00,  2.77568010e+01,\n",
       "        1.48621963e+02,  4.92507190e+01,  6.50332681e+01,  1.57943458e+02,\n",
       "        5.04779443e+01,  1.96461403e+00,  9.12092535e+01,  1.08586801e+02,\n",
       "        1.86889019e+02,  2.51544946e+01,  1.50286868e+02,  1.78527758e+02,\n",
       "        1.57901950e+01,  9.63004262e+01,  8.83932188e+01,  4.49786691e+01,\n",
       "        2.25989812e+02,  7.02635214e+00,  1.20730446e+02,  9.13468493e+00,\n",
       "        1.10559713e+02,  8.29394322e+01,  4.27947765e+01,  1.10909720e+01,\n",
       "       -6.62219861e-01,  1.29181539e+02,  1.11947531e+00,  3.42343200e+01,\n",
       "        8.90962963e+01, -6.14375539e+01,  1.18400217e+02,  3.60569742e+01,\n",
       "        1.17320074e+02, -1.93673578e+01,  1.13452047e+02,  8.10178740e+01,\n",
       "        1.02352885e+02,  2.80092115e+01, -2.75000485e+01, -3.16916259e+01,\n",
       "        1.04948608e+02,  5.88885073e+01, -1.92157627e+01,  1.53102573e+02,\n",
       "        6.45649892e+01,  1.57627912e+02, -2.88605922e+00,  4.38692645e+01,\n",
       "        1.95722931e+01,  8.20824527e+01,  7.84773779e+01,  1.80308513e+02,\n",
       "        1.59621578e+02,  1.40773354e+02,  1.54819877e+02,  1.11477916e+02,\n",
       "        2.83112800e+01,  4.50141560e+01,  3.82663259e+01,  1.02574413e+02,\n",
       "       -1.01465872e+01,  6.89871082e+01,  7.17356668e+01,  4.31405271e+01,\n",
       "        7.78075183e+01,  1.12677085e+02, -5.31971455e+00,  5.30942961e+01,\n",
       "        5.44037076e+01, -2.35603716e+01,  6.82418280e+01,  6.03905173e+01,\n",
       "       -8.69906614e+00,  1.01955602e+02,  1.24941643e+02,  4.62503986e+01,\n",
       "        8.55522085e+01,  1.59289251e+02,  1.98847059e+01,  1.25646621e+02,\n",
       "        3.43306639e+00,  9.15808704e+01,  3.46593884e+01,  9.31487514e+01,\n",
       "        9.00624211e+01,  6.52928243e+01,  2.97586180e+01,  1.89740086e+01,\n",
       "        8.25246365e+01,  1.22308531e+02,  1.72165293e+02,  1.86799606e+02,\n",
       "        8.99544177e+01,  7.90285596e+01,  1.72922749e+02,  6.41800166e+01,\n",
       "        9.25344824e+01,  1.33640365e+02,  1.91101072e+01,  8.49973437e+01,\n",
       "        1.15082344e+02, -3.55847121e+01,  2.96182012e+01,  2.57914736e+02,\n",
       "        1.36565722e+02,  4.87422189e+01,  7.90980970e+01,  5.99271155e+01,\n",
       "        5.10275498e+01,  2.35615868e+01,  1.60691725e+02, -2.16563192e+01,\n",
       "        8.14736538e+01,  5.37414317e+01])"
      ]
     },
     "execution_count": 24,
     "metadata": {},
     "output_type": "execute_result"
    }
   ],
   "source": [
    "y_lr_train_pred"
   ]
  },
  {
   "cell_type": "code",
   "execution_count": 25,
   "id": "29f2cdf6-c3bf-46cb-ab18-c3bb7c44b02a",
   "metadata": {
    "tags": []
   },
   "outputs": [],
   "source": [
    "from sklearn.metrics import mean_squared_error, r2_score\n",
    "lr_train_mse=mean_squared_error(y_train,y_lr_train_pred)\n",
    "lr_train_r2=r2_score(y_train,y_lr_train_pred)\n",
    "lr_test_mse=mean_squared_error(y_test,y_lr_test_pred)\n",
    "lr_test_r2=r2_score(y_test,y_lr_test_pred)"
   ]
  },
  {
   "cell_type": "code",
   "execution_count": 26,
   "id": "d488839b-8e75-48b1-8f6a-84da8fed4105",
   "metadata": {
    "tags": []
   },
   "outputs": [
    {
     "name": "stdout",
     "output_type": "stream",
     "text": [
      "Linear Regression  Mean Squared Error is(Train): 10022.068816682522\n",
      "Linear Regression r2_score is (Train): 0.2744274599543137\n",
      "Linear Regression Mean Squared Error is (Test): 6363.093536469654\n",
      "Linear Regression r2_score is(Test): 0.4240057826977275\n"
     ]
    }
   ],
   "source": [
    "print(\"Linear Regression  Mean Squared Error is(Train):\",lr_train_mse)\n",
    "print(\"Linear Regression r2_score is (Train):\",lr_train_r2)\n",
    "print(\"Linear Regression Mean Squared Error is (Test):\",lr_test_mse)\n",
    "print(\"Linear Regression r2_score is(Test):\",lr_test_r2)"
   ]
  },
  {
   "cell_type": "code",
   "execution_count": 27,
   "id": "504b680c-9142-42fd-8fa3-ebce1ad9c185",
   "metadata": {
    "tags": []
   },
   "outputs": [],
   "source": [
    "lr_results=pd.DataFrame(['Linear Regression',lr_train_mse,lr_train_r2,lr_test_mse,lr_test_r2]).transpose()"
   ]
  },
  {
   "cell_type": "code",
   "execution_count": 28,
   "id": "dfde5a8f-37b3-4856-900d-c6bf0b1a9492",
   "metadata": {
    "tags": []
   },
   "outputs": [
    {
     "data": {
      "text/html": [
       "<div>\n",
       "<style scoped>\n",
       "    .dataframe tbody tr th:only-of-type {\n",
       "        vertical-align: middle;\n",
       "    }\n",
       "\n",
       "    .dataframe tbody tr th {\n",
       "        vertical-align: top;\n",
       "    }\n",
       "\n",
       "    .dataframe thead th {\n",
       "        text-align: right;\n",
       "    }\n",
       "</style>\n",
       "<table border=\"1\" class=\"dataframe\">\n",
       "  <thead>\n",
       "    <tr style=\"text-align: right;\">\n",
       "      <th></th>\n",
       "      <th>0</th>\n",
       "      <th>1</th>\n",
       "      <th>2</th>\n",
       "      <th>3</th>\n",
       "      <th>4</th>\n",
       "    </tr>\n",
       "  </thead>\n",
       "  <tbody>\n",
       "    <tr>\n",
       "      <th>0</th>\n",
       "      <td>Linear Regression</td>\n",
       "      <td>10022.068817</td>\n",
       "      <td>0.274427</td>\n",
       "      <td>6363.093536</td>\n",
       "      <td>0.424006</td>\n",
       "    </tr>\n",
       "  </tbody>\n",
       "</table>\n",
       "</div>"
      ],
      "text/plain": [
       "                   0             1         2            3         4\n",
       "0  Linear Regression  10022.068817  0.274427  6363.093536  0.424006"
      ]
     },
     "execution_count": 28,
     "metadata": {},
     "output_type": "execute_result"
    }
   ],
   "source": [
    "lr_results"
   ]
  },
  {
   "cell_type": "markdown",
   "id": "899e8d2d-221c-49ce-b412-b55c3a5d5d0f",
   "metadata": {},
   "source": [
    "To add a Columns "
   ]
  },
  {
   "cell_type": "code",
   "execution_count": 29,
   "id": "2bfcf390-a4fd-4f35-b144-95acbe1b0b41",
   "metadata": {
    "tags": []
   },
   "outputs": [],
   "source": [
    "lr_results.columns=['Method','Training MSE','Training R2','Testing MSE','Testing R2']"
   ]
  },
  {
   "cell_type": "code",
   "execution_count": 30,
   "id": "bae5ea17-3f7e-48c7-973e-f5754c677938",
   "metadata": {
    "tags": []
   },
   "outputs": [
    {
     "data": {
      "text/html": [
       "<div>\n",
       "<style scoped>\n",
       "    .dataframe tbody tr th:only-of-type {\n",
       "        vertical-align: middle;\n",
       "    }\n",
       "\n",
       "    .dataframe tbody tr th {\n",
       "        vertical-align: top;\n",
       "    }\n",
       "\n",
       "    .dataframe thead th {\n",
       "        text-align: right;\n",
       "    }\n",
       "</style>\n",
       "<table border=\"1\" class=\"dataframe\">\n",
       "  <thead>\n",
       "    <tr style=\"text-align: right;\">\n",
       "      <th></th>\n",
       "      <th>Method</th>\n",
       "      <th>Training MSE</th>\n",
       "      <th>Training R2</th>\n",
       "      <th>Testing MSE</th>\n",
       "      <th>Testing R2</th>\n",
       "    </tr>\n",
       "  </thead>\n",
       "  <tbody>\n",
       "    <tr>\n",
       "      <th>0</th>\n",
       "      <td>Linear Regression</td>\n",
       "      <td>10022.068817</td>\n",
       "      <td>0.274427</td>\n",
       "      <td>6363.093536</td>\n",
       "      <td>0.424006</td>\n",
       "    </tr>\n",
       "  </tbody>\n",
       "</table>\n",
       "</div>"
      ],
      "text/plain": [
       "              Method  Training MSE Training R2  Testing MSE Testing R2\n",
       "0  Linear Regression  10022.068817    0.274427  6363.093536   0.424006"
      ]
     },
     "execution_count": 30,
     "metadata": {},
     "output_type": "execute_result"
    }
   ],
   "source": [
    "lr_results"
   ]
  },
  {
   "cell_type": "raw",
   "id": "e1eb491d-424c-42c2-902a-efdef6a56c5e",
   "metadata": {
    "tags": []
   },
   "source": [
    "## ** Random Forest**##"
   ]
  },
  {
   "cell_type": "code",
   "execution_count": 31,
   "id": "f1fa8574-8dad-4788-b42a-a61f84fd4fc0",
   "metadata": {
    "tags": []
   },
   "outputs": [
    {
     "data": {
      "text/html": [
       "<style>#sk-container-id-1 {color: black;}#sk-container-id-1 pre{padding: 0;}#sk-container-id-1 div.sk-toggleable {background-color: white;}#sk-container-id-1 label.sk-toggleable__label {cursor: pointer;display: block;width: 100%;margin-bottom: 0;padding: 0.3em;box-sizing: border-box;text-align: center;}#sk-container-id-1 label.sk-toggleable__label-arrow:before {content: \"▸\";float: left;margin-right: 0.25em;color: #696969;}#sk-container-id-1 label.sk-toggleable__label-arrow:hover:before {color: black;}#sk-container-id-1 div.sk-estimator:hover label.sk-toggleable__label-arrow:before {color: black;}#sk-container-id-1 div.sk-toggleable__content {max-height: 0;max-width: 0;overflow: hidden;text-align: left;background-color: #f0f8ff;}#sk-container-id-1 div.sk-toggleable__content pre {margin: 0.2em;color: black;border-radius: 0.25em;background-color: #f0f8ff;}#sk-container-id-1 input.sk-toggleable__control:checked~div.sk-toggleable__content {max-height: 200px;max-width: 100%;overflow: auto;}#sk-container-id-1 input.sk-toggleable__control:checked~label.sk-toggleable__label-arrow:before {content: \"▾\";}#sk-container-id-1 div.sk-estimator input.sk-toggleable__control:checked~label.sk-toggleable__label {background-color: #d4ebff;}#sk-container-id-1 div.sk-label input.sk-toggleable__control:checked~label.sk-toggleable__label {background-color: #d4ebff;}#sk-container-id-1 input.sk-hidden--visually {border: 0;clip: rect(1px 1px 1px 1px);clip: rect(1px, 1px, 1px, 1px);height: 1px;margin: -1px;overflow: hidden;padding: 0;position: absolute;width: 1px;}#sk-container-id-1 div.sk-estimator {font-family: monospace;background-color: #f0f8ff;border: 1px dotted black;border-radius: 0.25em;box-sizing: border-box;margin-bottom: 0.5em;}#sk-container-id-1 div.sk-estimator:hover {background-color: #d4ebff;}#sk-container-id-1 div.sk-parallel-item::after {content: \"\";width: 100%;border-bottom: 1px solid gray;flex-grow: 1;}#sk-container-id-1 div.sk-label:hover label.sk-toggleable__label {background-color: #d4ebff;}#sk-container-id-1 div.sk-serial::before {content: \"\";position: absolute;border-left: 1px solid gray;box-sizing: border-box;top: 0;bottom: 0;left: 50%;z-index: 0;}#sk-container-id-1 div.sk-serial {display: flex;flex-direction: column;align-items: center;background-color: white;padding-right: 0.2em;padding-left: 0.2em;position: relative;}#sk-container-id-1 div.sk-item {position: relative;z-index: 1;}#sk-container-id-1 div.sk-parallel {display: flex;align-items: stretch;justify-content: center;background-color: white;position: relative;}#sk-container-id-1 div.sk-item::before, #sk-container-id-1 div.sk-parallel-item::before {content: \"\";position: absolute;border-left: 1px solid gray;box-sizing: border-box;top: 0;bottom: 0;left: 50%;z-index: -1;}#sk-container-id-1 div.sk-parallel-item {display: flex;flex-direction: column;z-index: 1;position: relative;background-color: white;}#sk-container-id-1 div.sk-parallel-item:first-child::after {align-self: flex-end;width: 50%;}#sk-container-id-1 div.sk-parallel-item:last-child::after {align-self: flex-start;width: 50%;}#sk-container-id-1 div.sk-parallel-item:only-child::after {width: 0;}#sk-container-id-1 div.sk-dashed-wrapped {border: 1px dashed gray;margin: 0 0.4em 0.5em 0.4em;box-sizing: border-box;padding-bottom: 0.4em;background-color: white;}#sk-container-id-1 div.sk-label label {font-family: monospace;font-weight: bold;display: inline-block;line-height: 1.2em;}#sk-container-id-1 div.sk-label-container {text-align: center;}#sk-container-id-1 div.sk-container {/* jupyter's `normalize.less` sets `[hidden] { display: none; }` but bootstrap.min.css set `[hidden] { display: none !important; }` so we also need the `!important` here to be able to override the default hidden behavior on the sphinx rendered scikit-learn.org. See: https://github.com/scikit-learn/scikit-learn/issues/21755 */display: inline-block !important;position: relative;}#sk-container-id-1 div.sk-text-repr-fallback {display: none;}</style><div id=\"sk-container-id-1\" class=\"sk-top-container\"><div class=\"sk-text-repr-fallback\"><pre>RandomForestRegressor(max_depth=2, random_state=100)</pre><b>In a Jupyter environment, please rerun this cell to show the HTML representation or trust the notebook. <br />On GitHub, the HTML representation is unable to render, please try loading this page with nbviewer.org.</b></div><div class=\"sk-container\" hidden><div class=\"sk-item\"><div class=\"sk-estimator sk-toggleable\"><input class=\"sk-toggleable__control sk-hidden--visually\" id=\"sk-estimator-id-1\" type=\"checkbox\" checked><label for=\"sk-estimator-id-1\" class=\"sk-toggleable__label sk-toggleable__label-arrow\">RandomForestRegressor</label><div class=\"sk-toggleable__content\"><pre>RandomForestRegressor(max_depth=2, random_state=100)</pre></div></div></div></div></div>"
      ],
      "text/plain": [
       "RandomForestRegressor(max_depth=2, random_state=100)"
      ]
     },
     "execution_count": 31,
     "metadata": {},
     "output_type": "execute_result"
    }
   ],
   "source": [
    "from sklearn.ensemble import RandomForestRegressor\n",
    "rf=RandomForestRegressor(max_depth=2, random_state=100)\n",
    "rf.fit(x_train,y_train)\n"
   ]
  },
  {
   "cell_type": "code",
   "execution_count": 32,
   "id": "776eaac3-3868-49b7-8f72-2df4be58f9bf",
   "metadata": {
    "tags": []
   },
   "outputs": [],
   "source": [
    "y_rf_train_pred=rf.predict(x_train)\n",
    "y_rf_test_pred=rf.predict(x_test)"
   ]
  },
  {
   "cell_type": "code",
   "execution_count": 33,
   "id": "48787fa2-6ce9-410f-9c53-9b5c626d8822",
   "metadata": {
    "tags": []
   },
   "outputs": [
    {
     "data": {
      "text/plain": [
       "array([2.01602437e-02, 1.51507245e+02, 7.45609053e+01, 2.01602437e-02,\n",
       "       1.40852236e+02, 7.45609053e+01, 7.45609053e+01, 7.45609053e+01,\n",
       "       2.01602437e-02, 7.45609053e+01, 7.45609053e+01, 7.45609053e+01,\n",
       "       1.95879206e+02, 7.40552438e+01, 7.45609053e+01, 7.45609053e+01,\n",
       "       2.01602437e-02, 2.01602437e-02, 7.45609053e+01, 7.45609053e+01,\n",
       "       1.40852236e+02, 7.45609053e+01, 1.90322243e+02, 7.45609053e+01,\n",
       "       2.01602437e-02, 2.01602437e-02, 2.01602437e-02, 1.40852236e+02,\n",
       "       8.96827663e+01, 7.45609053e+01, 1.83996870e+02, 7.45609053e+01,\n",
       "       1.38817860e+02, 1.34604716e+02, 6.78592794e+01, 9.29100557e+01,\n",
       "       1.90322243e+02, 7.45609053e+01, 1.95879206e+02, 2.01602437e-02,\n",
       "       7.45609053e+01, 1.40852236e+02, 7.45609053e+01, 2.01602437e-02,\n",
       "       7.45609053e+01, 1.83996870e+02, 2.03704043e+02, 1.90322243e+02,\n",
       "       2.01602437e-02, 7.45609053e+01, 1.34604716e+02, 7.45609053e+01,\n",
       "       2.01602437e-02, 1.40852236e+02, 7.45609053e+01, 2.01602437e-02,\n",
       "       2.01602437e-02, 2.01602437e-02, 1.38817860e+02, 1.18009932e+02,\n",
       "       8.96827663e+01, 1.90322243e+02, 2.01602437e-02, 1.54161953e+02,\n",
       "       1.83996870e+02, 7.45609053e+01, 2.01602437e-02, 1.95879206e+02,\n",
       "       7.45609053e+01, 7.45609053e+01, 2.01602437e-02, 7.45609053e+01,\n",
       "       1.83996870e+02, 2.01602437e-02, 1.83996870e+02, 1.83996870e+02,\n",
       "       7.45609053e+01, 1.59778274e+02, 1.40852236e+02, 2.01602437e-02,\n",
       "       2.01602437e-02, 7.45609053e+01, 7.45609053e+01, 1.56983180e+02,\n",
       "       7.45609053e+01, 2.01602437e-02, 7.34934501e+01, 1.40852236e+02,\n",
       "       1.90322243e+02, 2.01602437e-02, 2.01602437e-02, 1.51507245e+02,\n",
       "       7.68768638e+01, 2.01602437e-02, 1.40852236e+02, 7.45609053e+01,\n",
       "       2.01602437e-02, 2.01602437e-02, 2.01602437e-02, 2.01602437e-02,\n",
       "       2.01602437e-02, 2.01602437e-02, 1.35980646e+02, 7.45609053e+01,\n",
       "       1.83996870e+02, 8.17832980e+01, 7.45609053e+01, 2.01602437e-02,\n",
       "       2.01602437e-02, 2.01602437e-02, 1.40852236e+02, 2.01602437e-02,\n",
       "       2.01602437e-02, 1.95879206e+02, 7.68768638e+01, 1.40852236e+02,\n",
       "       3.01734584e+00, 1.40852236e+02, 1.56983180e+02, 7.45609053e+01,\n",
       "       7.45609053e+01, 2.01602437e-02, 1.72746538e+02, 8.17832980e+01,\n",
       "       2.01602437e-02, 7.45609053e+01, 7.45609053e+01, 7.45609053e+01,\n",
       "       1.40852236e+02, 1.45056980e+02, 2.01602437e-02, 2.01602437e-02,\n",
       "       1.40852236e+02, 7.45609053e+01, 1.95238814e+02, 1.18009932e+02,\n",
       "       7.45609053e+01, 2.01602437e-02, 1.40852236e+02, 1.33031576e+02,\n",
       "       7.78210067e+01, 7.45609053e+01, 2.01602437e-02, 7.45609053e+01,\n",
       "       2.01602437e-02, 1.92454066e+02, 2.01602437e-02, 1.90322243e+02,\n",
       "       3.01734584e+00, 7.45609053e+01, 7.45609053e+01, 1.40852236e+02,\n",
       "       2.01602437e-02, 2.01602437e-02, 1.79687074e+02, 7.45609053e+01,\n",
       "       7.58094087e+01, 1.60838199e+02, 2.01602437e-02, 2.01602437e-02,\n",
       "       2.01602437e-02, 1.40852236e+02, 7.45609053e+01, 2.01602437e-02,\n",
       "       7.45609053e+01, 7.45609053e+01, 7.45609053e+01, 7.40552438e+01,\n",
       "       7.45609053e+01, 2.01602437e-02, 7.45609053e+01, 2.01602437e-02,\n",
       "       1.54161953e+02, 1.92454066e+02, 1.40852236e+02, 1.54161953e+02,\n",
       "       1.40852236e+02, 1.83996870e+02, 2.01602437e-02, 7.15825054e+01,\n",
       "       2.01602437e-02, 1.40852236e+02, 7.45609053e+01, 2.01602437e-02,\n",
       "       7.45609053e+01, 7.45609053e+01, 7.45609053e+01, 7.68768638e+01,\n",
       "       2.01602437e-02, 7.45609053e+01, 2.01602437e-02, 2.01602437e-02,\n",
       "       7.45609053e+01, 1.95879206e+02, 1.40852236e+02, 1.72746538e+02,\n",
       "       1.83996870e+02, 2.01602437e-02, 7.45609053e+01, 7.45609053e+01,\n",
       "       2.01602437e-02, 7.45609053e+01, 7.45609053e+01, 2.01602437e-02,\n",
       "       7.15825054e+01, 1.40852236e+02, 7.45609053e+01, 2.01602437e-02,\n",
       "       7.45609053e+01, 1.40852236e+02, 1.34604716e+02, 7.45609053e+01,\n",
       "       2.01602437e-02, 7.45609053e+01, 1.95879206e+02, 1.90322243e+02,\n",
       "       1.51507245e+02, 7.45609053e+01, 1.40852236e+02, 1.45056980e+02,\n",
       "       1.83996870e+02, 8.96827663e+01, 1.59778274e+02, 1.40852236e+02,\n",
       "       1.34604716e+02, 7.45609053e+01, 7.45609053e+01, 2.01602437e-02,\n",
       "       3.01734584e+00, 7.45609053e+01, 2.01602437e-02, 2.01602437e-02,\n",
       "       2.01602437e-02, 2.01602437e-02, 1.40852236e+02, 2.01602437e-02,\n",
       "       7.45609053e+01, 1.92454066e+02, 7.45609053e+01, 1.40852236e+02,\n",
       "       7.45609053e+01, 7.45609053e+01, 7.45609053e+01, 2.01602437e-02,\n",
       "       7.45609053e+01, 7.45609053e+01, 1.45056980e+02, 1.40852236e+02,\n",
       "       7.45609053e+01, 7.45609053e+01, 2.01602437e-02, 7.45609053e+01,\n",
       "       6.55054272e+01, 2.01602437e-02, 9.06626913e+01, 7.45609053e+01,\n",
       "       1.40852236e+02, 2.01602437e-02, 2.01602437e-02, 7.45609053e+01,\n",
       "       2.01602437e-02, 2.01602437e-02, 1.83996870e+02, 2.01602437e-02,\n",
       "       7.45609053e+01, 2.01602437e-02, 2.01602437e-02, 7.45609053e+01,\n",
       "       7.45609053e+01, 1.83996870e+02, 2.01602437e-02, 1.92454066e+02,\n",
       "       9.29100557e+01, 2.01602437e-02, 1.90322243e+02, 7.45609053e+01,\n",
       "       1.95879206e+02, 7.45609053e+01, 1.45056980e+02, 7.45609053e+01,\n",
       "       7.40552438e+01, 1.92454066e+02, 9.29100557e+01, 2.01602437e-02,\n",
       "       7.45609053e+01, 7.45609053e+01, 7.45609053e+01, 7.45609053e+01,\n",
       "       2.01602437e-02, 2.01602437e-02, 7.45609053e+01, 2.01602437e-02,\n",
       "       2.01602437e-02, 7.45609053e+01, 1.40852236e+02, 2.01602437e-02,\n",
       "       7.45609053e+01, 2.01602437e-02, 1.40852236e+02, 7.45609053e+01,\n",
       "       7.45609053e+01, 7.45609053e+01, 7.45609053e+01, 2.01602437e-02,\n",
       "       2.01602437e-02, 7.88884619e+01, 6.55054272e+01, 7.45609053e+01,\n",
       "       7.45609053e+01, 1.40852236e+02, 7.68768638e+01, 1.36542440e+02,\n",
       "       7.45609053e+01, 2.01602437e-02, 1.90322243e+02, 9.06626913e+01,\n",
       "       1.59778274e+02, 1.40852236e+02, 7.45609053e+01, 1.23121521e+02,\n",
       "       1.92454066e+02, 2.01602437e-02, 7.45609053e+01, 2.01602437e-02,\n",
       "       1.40852236e+02, 7.45609053e+01, 8.17832980e+01, 1.40852236e+02,\n",
       "       7.45609053e+01, 7.34934501e+01, 2.01602437e-02, 7.45609053e+01,\n",
       "       1.45056980e+02, 1.92454066e+02, 2.01602437e-02, 7.45609053e+01,\n",
       "       7.40552438e+01, 2.01602437e-02, 2.01602437e-02, 1.40852236e+02,\n",
       "       2.01602437e-02, 6.48620938e+01, 2.01602437e-02, 7.68768638e+01,\n",
       "       1.45056980e+02, 1.83996870e+02, 2.01602437e-02, 2.01602437e-02,\n",
       "       2.01602437e-02, 7.88884619e+01, 7.45609053e+01, 1.18009932e+02,\n",
       "       7.45609053e+01, 2.01602437e-02, 7.45609053e+01, 1.90322243e+02,\n",
       "       7.45609053e+01, 1.40852236e+02, 7.45609053e+01, 2.01602437e-02,\n",
       "       2.01602437e-02, 7.45609053e+01, 2.01602437e-02, 1.72746538e+02,\n",
       "       2.01602437e-02, 2.01602437e-02, 7.45609053e+01, 1.90322243e+02,\n",
       "       2.01602437e-02, 1.90322243e+02, 7.45609053e+01, 2.01602437e-02,\n",
       "       2.01602437e-02, 2.01602437e-02, 1.40852236e+02, 2.01602437e-02,\n",
       "       2.01602437e-02, 7.45609053e+01, 2.01602437e-02, 7.68768638e+01,\n",
       "       1.95879206e+02, 7.45609053e+01, 7.45609053e+01, 2.01602437e-02,\n",
       "       2.01602437e-02, 7.45609053e+01, 1.92454066e+02, 1.90322243e+02,\n",
       "       2.01602437e-02, 7.45609053e+01, 1.40852236e+02, 7.45609053e+01,\n",
       "       7.45609053e+01, 1.90322243e+02, 1.45056980e+02, 2.01602437e-02,\n",
       "       2.01602437e-02, 7.45609053e+01, 7.45609053e+01, 2.01602437e-02,\n",
       "       7.45609053e+01, 1.38817860e+02, 1.40852236e+02, 7.88884619e+01,\n",
       "       7.45609053e+01, 1.45056980e+02, 2.01602437e-02, 2.01602437e-02,\n",
       "       7.45609053e+01, 7.45609053e+01, 1.51507245e+02, 2.01602437e-02,\n",
       "       7.45609053e+01, 1.34604716e+02, 2.01602437e-02, 7.45609053e+01,\n",
       "       2.01602437e-02, 1.95879206e+02, 7.45609053e+01, 1.40852236e+02,\n",
       "       7.45609053e+01, 7.45609053e+01, 6.48620938e+01, 1.59778274e+02,\n",
       "       1.92454066e+02, 7.45609053e+01, 1.40852236e+02, 9.06626913e+01,\n",
       "       7.45609053e+01, 1.90322243e+02, 1.38817860e+02, 7.45609053e+01,\n",
       "       7.88884619e+01, 1.34508064e+02, 7.68768638e+01, 1.95879206e+02,\n",
       "       2.01602437e-02, 7.45609053e+01, 1.40852236e+02, 1.90322243e+02,\n",
       "       7.45609053e+01, 2.01602437e-02, 7.45609053e+01, 1.72746538e+02,\n",
       "       2.01602437e-02, 7.45609053e+01, 1.92454066e+02, 7.45609053e+01,\n",
       "       6.55054272e+01, 2.01602437e-02, 2.01602437e-02, 2.01602437e-02,\n",
       "       1.51507245e+02, 7.45609053e+01, 7.45609053e+01, 2.01602437e-02,\n",
       "       7.45609053e+01, 7.45609053e+01, 7.68768638e+01, 7.45609053e+01,\n",
       "       2.01602437e-02, 2.01602437e-02, 1.92454066e+02, 7.45609053e+01,\n",
       "       2.01602437e-02, 1.90322243e+02, 8.96827663e+01, 7.45609053e+01,\n",
       "       7.45609053e+01, 7.88884619e+01, 7.68768638e+01, 2.01602437e-02,\n",
       "       2.01602437e-02, 2.01602437e-02, 7.45609053e+01, 1.90322243e+02,\n",
       "       8.91771048e+01, 2.01602437e-02, 7.45609053e+01, 2.01602437e-02,\n",
       "       1.18009932e+02, 1.40852236e+02, 2.01602437e-02, 7.45609053e+01,\n",
       "       7.15825054e+01, 7.45609053e+01, 7.45609053e+01, 1.92454066e+02,\n",
       "       7.45609053e+01, 2.01602437e-02, 7.45609053e+01, 1.40852236e+02,\n",
       "       2.01602437e-02, 2.01602437e-02, 1.45056980e+02, 1.92454066e+02,\n",
       "       2.01602437e-02, 7.45609053e+01, 6.55054272e+01, 2.01602437e-02,\n",
       "       8.17832980e+01, 7.45609053e+01, 7.45609053e+01, 1.40852236e+02,\n",
       "       7.45609053e+01, 2.01602437e-02, 8.96827663e+01, 7.45609053e+01,\n",
       "       1.83996870e+02, 2.01602437e-02, 1.56983180e+02, 1.92454066e+02,\n",
       "       2.01602437e-02, 7.45609053e+01, 7.45609053e+01, 7.45609053e+01,\n",
       "       1.90322243e+02, 2.01602437e-02, 1.38817860e+02, 2.01602437e-02,\n",
       "       1.40852236e+02, 7.45609053e+01, 7.34934501e+01, 2.01602437e-02,\n",
       "       2.01602437e-02, 7.45609053e+01, 2.01602437e-02, 2.01602437e-02,\n",
       "       7.45609053e+01, 2.01602437e-02, 7.45609053e+01, 2.01602437e-02,\n",
       "       1.45056980e+02, 2.01602437e-02, 1.45056980e+02, 7.45609053e+01,\n",
       "       7.45609053e+01, 2.01602437e-02, 2.01602437e-02, 2.01602437e-02,\n",
       "       1.18009932e+02, 2.01602437e-02, 7.45609053e+01, 1.56983180e+02,\n",
       "       2.01602437e-02, 1.92454066e+02, 2.01602437e-02, 9.29100557e+01,\n",
       "       2.01602437e-02, 7.45609053e+01, 9.06626913e+01, 1.95879206e+02,\n",
       "       1.95879206e+02, 1.54161953e+02, 1.40852236e+02, 1.40852236e+02,\n",
       "       2.01602437e-02, 7.45609053e+01, 7.40552438e+01, 1.18009932e+02,\n",
       "       2.01602437e-02, 7.45609053e+01, 7.45609053e+01, 7.45609053e+01,\n",
       "       1.38817860e+02, 7.45609053e+01, 2.01602437e-02, 2.01602437e-02,\n",
       "       2.01602437e-02, 3.01734584e+00, 7.45609053e+01, 7.45609053e+01,\n",
       "       2.01602437e-02, 1.40852236e+02, 1.83996870e+02, 2.01602437e-02,\n",
       "       8.96827663e+01, 1.40852236e+02, 7.45609053e+01, 1.40852236e+02,\n",
       "       7.40552438e+01, 2.01602437e-02, 2.01602437e-02, 1.45056980e+02,\n",
       "       2.01602437e-02, 7.45609053e+01, 7.45609053e+01, 2.01602437e-02,\n",
       "       1.40852236e+02, 1.54161953e+02, 1.45768808e+02, 1.90322243e+02,\n",
       "       7.88884619e+01, 7.45609053e+01, 1.90322243e+02, 7.45609053e+01,\n",
       "       7.68768638e+01, 7.45609053e+01, 2.01602437e-02, 7.45609053e+01,\n",
       "       1.40852236e+02, 2.01602437e-02, 7.15825054e+01, 2.07129183e+02,\n",
       "       1.83996870e+02, 2.01602437e-02, 7.45609053e+01, 7.45609053e+01,\n",
       "       7.45609053e+01, 2.01602437e-02, 1.90322243e+02, 2.01602437e-02,\n",
       "       7.45609053e+01, 7.45609053e+01])"
      ]
     },
     "execution_count": 33,
     "metadata": {},
     "output_type": "execute_result"
    }
   ],
   "source": [
    "y_rf_train_pred"
   ]
  },
  {
   "cell_type": "code",
   "execution_count": 34,
   "id": "4843dea7-7648-4a22-b5b2-cf29de197919",
   "metadata": {
    "tags": []
   },
   "outputs": [],
   "source": [
    "from sklearn.metrics import mean_squared_error, r2_score\n",
    "rf_train_mse=mean_squared_error(y_train,y_rf_train_pred)\n",
    "rf_train_r2=r2_score(y_train,y_rf_train_pred)\n",
    "rf_test_mse=mean_squared_error(y_test,y_rf_test_pred)\n",
    "rf_test_r2=r2_score(y_test,y_rf_test_pred)"
   ]
  },
  {
   "cell_type": "code",
   "execution_count": 35,
   "id": "d2242d55-0602-4994-8a2b-31308926246a",
   "metadata": {
    "tags": []
   },
   "outputs": [
    {
     "name": "stdout",
     "output_type": "stream",
     "text": [
      "Random Forest  Mean Squared Error is(Train): 8851.827315663157\n",
      "Random Forest r2_score is (Train): 0.3591499971761807\n",
      "Random Forest Mean Squared Error is (Test): 6348.196664397584\n",
      "Random Forest r2_score is(Test): 0.42535426392312925\n"
     ]
    }
   ],
   "source": [
    "print(\"Random Forest  Mean Squared Error is(Train):\",rf_train_mse)\n",
    "print(\"Random Forest r2_score is (Train):\",rf_train_r2)\n",
    "print(\"Random Forest Mean Squared Error is (Test):\",rf_test_mse)\n",
    "print(\"Random Forest r2_score is(Test):\",rf_test_r2)"
   ]
  },
  {
   "cell_type": "code",
   "execution_count": 38,
   "id": "8981ff10-8ceb-4253-93c2-bfe0bf397868",
   "metadata": {
    "tags": []
   },
   "outputs": [],
   "source": [
    "rf_results=pd.DataFrame(['Random Forest',rf_train_mse,rf_train_r2,rf_test_mse,rf_test_r2]).transpose()"
   ]
  },
  {
   "cell_type": "code",
   "execution_count": 39,
   "id": "1006cf6b-e4a4-4d3d-bf22-8852f774e0a1",
   "metadata": {
    "tags": []
   },
   "outputs": [
    {
     "data": {
      "text/html": [
       "<div>\n",
       "<style scoped>\n",
       "    .dataframe tbody tr th:only-of-type {\n",
       "        vertical-align: middle;\n",
       "    }\n",
       "\n",
       "    .dataframe tbody tr th {\n",
       "        vertical-align: top;\n",
       "    }\n",
       "\n",
       "    .dataframe thead th {\n",
       "        text-align: right;\n",
       "    }\n",
       "</style>\n",
       "<table border=\"1\" class=\"dataframe\">\n",
       "  <thead>\n",
       "    <tr style=\"text-align: right;\">\n",
       "      <th></th>\n",
       "      <th>0</th>\n",
       "      <th>1</th>\n",
       "      <th>2</th>\n",
       "      <th>3</th>\n",
       "      <th>4</th>\n",
       "    </tr>\n",
       "  </thead>\n",
       "  <tbody>\n",
       "    <tr>\n",
       "      <th>0</th>\n",
       "      <td>Random Forest</td>\n",
       "      <td>8851.827316</td>\n",
       "      <td>0.35915</td>\n",
       "      <td>6348.196664</td>\n",
       "      <td>0.425354</td>\n",
       "    </tr>\n",
       "  </tbody>\n",
       "</table>\n",
       "</div>"
      ],
      "text/plain": [
       "               0            1        2            3         4\n",
       "0  Random Forest  8851.827316  0.35915  6348.196664  0.425354"
      ]
     },
     "execution_count": 39,
     "metadata": {},
     "output_type": "execute_result"
    }
   ],
   "source": [
    "rf_results"
   ]
  },
  {
   "cell_type": "code",
   "execution_count": 40,
   "id": "7e56bc71-8594-460b-b102-8411d7e306c4",
   "metadata": {
    "tags": []
   },
   "outputs": [],
   "source": [
    "rf_results.columns=['Method','Training MSE','Training R2','Testing MSE','Testing R2']"
   ]
  },
  {
   "cell_type": "code",
   "execution_count": 41,
   "id": "37636a1f-2311-4a87-aa15-4273b4bcff4f",
   "metadata": {
    "tags": []
   },
   "outputs": [
    {
     "data": {
      "text/html": [
       "<div>\n",
       "<style scoped>\n",
       "    .dataframe tbody tr th:only-of-type {\n",
       "        vertical-align: middle;\n",
       "    }\n",
       "\n",
       "    .dataframe tbody tr th {\n",
       "        vertical-align: top;\n",
       "    }\n",
       "\n",
       "    .dataframe thead th {\n",
       "        text-align: right;\n",
       "    }\n",
       "</style>\n",
       "<table border=\"1\" class=\"dataframe\">\n",
       "  <thead>\n",
       "    <tr style=\"text-align: right;\">\n",
       "      <th></th>\n",
       "      <th>Method</th>\n",
       "      <th>Training MSE</th>\n",
       "      <th>Training R2</th>\n",
       "      <th>Testing MSE</th>\n",
       "      <th>Testing R2</th>\n",
       "    </tr>\n",
       "  </thead>\n",
       "  <tbody>\n",
       "    <tr>\n",
       "      <th>0</th>\n",
       "      <td>Random Forest</td>\n",
       "      <td>8851.827316</td>\n",
       "      <td>0.35915</td>\n",
       "      <td>6348.196664</td>\n",
       "      <td>0.425354</td>\n",
       "    </tr>\n",
       "  </tbody>\n",
       "</table>\n",
       "</div>"
      ],
      "text/plain": [
       "          Method Training MSE Training R2  Testing MSE Testing R2\n",
       "0  Random Forest  8851.827316     0.35915  6348.196664   0.425354"
      ]
     },
     "execution_count": 41,
     "metadata": {},
     "output_type": "execute_result"
    }
   ],
   "source": [
    "rf_results"
   ]
  },
  {
   "cell_type": "markdown",
   "id": "1d376cec-fc18-4063-bda7-0a9720676418",
   "metadata": {},
   "source": [
    "Linear Regression and Random Forest Model Comparison"
   ]
  },
  {
   "cell_type": "code",
   "execution_count": 42,
   "id": "01fb01e5-287f-450b-b32f-784b731c84b9",
   "metadata": {
    "tags": []
   },
   "outputs": [],
   "source": [
    "df_models=pd.concat([lr_results,rf_results],axis=0)"
   ]
  },
  {
   "cell_type": "code",
   "execution_count": 43,
   "id": "36d0bbc4-493e-4dd6-ae08-f2be8c8a66c0",
   "metadata": {
    "tags": []
   },
   "outputs": [
    {
     "data": {
      "text/html": [
       "<div>\n",
       "<style scoped>\n",
       "    .dataframe tbody tr th:only-of-type {\n",
       "        vertical-align: middle;\n",
       "    }\n",
       "\n",
       "    .dataframe tbody tr th {\n",
       "        vertical-align: top;\n",
       "    }\n",
       "\n",
       "    .dataframe thead th {\n",
       "        text-align: right;\n",
       "    }\n",
       "</style>\n",
       "<table border=\"1\" class=\"dataframe\">\n",
       "  <thead>\n",
       "    <tr style=\"text-align: right;\">\n",
       "      <th></th>\n",
       "      <th>Method</th>\n",
       "      <th>Training MSE</th>\n",
       "      <th>Training R2</th>\n",
       "      <th>Testing MSE</th>\n",
       "      <th>Testing R2</th>\n",
       "    </tr>\n",
       "  </thead>\n",
       "  <tbody>\n",
       "    <tr>\n",
       "      <th>0</th>\n",
       "      <td>Linear Regression</td>\n",
       "      <td>10022.068817</td>\n",
       "      <td>0.274427</td>\n",
       "      <td>6363.093536</td>\n",
       "      <td>0.424006</td>\n",
       "    </tr>\n",
       "    <tr>\n",
       "      <th>0</th>\n",
       "      <td>Random Forest</td>\n",
       "      <td>8851.827316</td>\n",
       "      <td>0.35915</td>\n",
       "      <td>6348.196664</td>\n",
       "      <td>0.425354</td>\n",
       "    </tr>\n",
       "  </tbody>\n",
       "</table>\n",
       "</div>"
      ],
      "text/plain": [
       "              Method  Training MSE Training R2  Testing MSE Testing R2\n",
       "0  Linear Regression  10022.068817    0.274427  6363.093536   0.424006\n",
       "0      Random Forest   8851.827316     0.35915  6348.196664   0.425354"
      ]
     },
     "execution_count": 43,
     "metadata": {},
     "output_type": "execute_result"
    }
   ],
   "source": [
    "df_models"
   ]
  },
  {
   "cell_type": "code",
   "execution_count": 44,
   "id": "7db7952f-3a36-4a1d-b3bd-2a5cc2d841e3",
   "metadata": {
    "tags": []
   },
   "outputs": [
    {
     "data": {
      "text/html": [
       "<div>\n",
       "<style scoped>\n",
       "    .dataframe tbody tr th:only-of-type {\n",
       "        vertical-align: middle;\n",
       "    }\n",
       "\n",
       "    .dataframe tbody tr th {\n",
       "        vertical-align: top;\n",
       "    }\n",
       "\n",
       "    .dataframe thead th {\n",
       "        text-align: right;\n",
       "    }\n",
       "</style>\n",
       "<table border=\"1\" class=\"dataframe\">\n",
       "  <thead>\n",
       "    <tr style=\"text-align: right;\">\n",
       "      <th></th>\n",
       "      <th>Method</th>\n",
       "      <th>Training MSE</th>\n",
       "      <th>Training R2</th>\n",
       "      <th>Testing MSE</th>\n",
       "      <th>Testing R2</th>\n",
       "    </tr>\n",
       "  </thead>\n",
       "  <tbody>\n",
       "    <tr>\n",
       "      <th>0</th>\n",
       "      <td>Linear Regression</td>\n",
       "      <td>10022.068817</td>\n",
       "      <td>0.274427</td>\n",
       "      <td>6363.093536</td>\n",
       "      <td>0.424006</td>\n",
       "    </tr>\n",
       "    <tr>\n",
       "      <th>0</th>\n",
       "      <td>Random Forest</td>\n",
       "      <td>8851.827316</td>\n",
       "      <td>0.35915</td>\n",
       "      <td>6348.196664</td>\n",
       "      <td>0.425354</td>\n",
       "    </tr>\n",
       "  </tbody>\n",
       "</table>\n",
       "</div>"
      ],
      "text/plain": [
       "              Method  Training MSE Training R2  Testing MSE Testing R2\n",
       "0  Linear Regression  10022.068817    0.274427  6363.093536   0.424006\n",
       "0      Random Forest   8851.827316     0.35915  6348.196664   0.425354"
      ]
     },
     "execution_count": 44,
     "metadata": {},
     "output_type": "execute_result"
    }
   ],
   "source": [
    "df_models.reset_index()\n",
    "df_models"
   ]
  },
  {
   "cell_type": "raw",
   "id": "81717cb1-267c-4cef-a5b1-cf1e17100515",
   "metadata": {
    "tags": []
   },
   "source": [
    "DATA VISUALIZATIONS FOR THE PREDICTED RESULTS"
   ]
  },
  {
   "cell_type": "code",
   "execution_count": 45,
   "id": "7a474c46-fbfb-4543-b36e-355ffbd46ab8",
   "metadata": {
    "tags": []
   },
   "outputs": [
    {
     "data": {
      "text/plain": [
       "Text(0.5, 0, 'Expermental BMI')"
      ]
     },
     "execution_count": 45,
     "metadata": {},
     "output_type": "execute_result"
    },
    {
     "data": {
      "image/png": "[encoded data removed]",
      "text/plain": [
       "<Figure size 500x500 with 1 Axes>"
      ]
     },
     "metadata": {},
     "output_type": "display_data"
    }
   ],
   "source": [
    "import matplotlib.pyplot as plt\n",
    "import numpy as np\n",
    "plt.figure(figsize=(5,5))\n",
    "plt.scatter(x=y_train,y=y_lr_train_pred,c=\"#7CAE00\",alpha=0.3)\n",
    "z=np.polyfit(y_train,y_lr_train_pred,1)\n",
    "p=np.poly1d(z)\n",
    "plt.plot(y_train,p(y_train),'#F8766D')\n",
    "plt.ylabel('Predict BMI')\n",
    "plt.xlabel('Expermental BMI')"
   ]
  },
  {
   "cell_type": "code",
   "execution_count": 50,
   "id": "7030541a-c634-4022-89a2-3590f41b09ab",
   "metadata": {
    "tags": []
   },
   "outputs": [
    {
     "data": {
      "text/plain": [
       "Text(0.5, 0, 'Expermental BMI')"
      ]
     },
     "execution_count": 50,
     "metadata": {},
     "output_type": "execute_result"
    },
    {
     "data": {
      "image/png": "[encoded data removed]",
      "text/plain": [
       "<Figure size 640x480 with 1 Axes>"
      ]
     },
     "metadata": {},
     "output_type": "display_data"
    }
   ],
   "source": [
    "import matplotlib.pyplot as plt\n",
    "import numpy as np\n",
    "import seaborn as sn\n",
    "sn.scatterplot(x=y_train,y=y_lr_train_pred,c=\"#7CAE00\",alpha=0.3)\n",
    "z=np.polyfit(y_train,y_lr_train_pred,1)\n",
    "p=np.poly1d(z)\n",
    "sn.barplot(y_train)\n",
    "plt.ylabel('Predict BMI')\n",
    "plt.xlabel('Expermental BMI')"
   ]
  },
  {
   "cell_type": "code",
   "execution_count": null,
   "id": "f9eca360-ffdf-4342-9e6b-be73d01d103f",
   "metadata": {},
   "outputs": [],
   "source": [
    "    sn.plot"
   ]
  }
 ],
 "metadata": {
  "kernelspec": {
   "display_name": "Python 3 (ipykernel)",
   "language": "python",
   "name": "python3"
  },
  "language_info": {
   "codemirror_mode": {
    "name": "ipython",
    "version": 3
   },
   "file_extension": ".py",
   "mimetype": "text/x-python",
   "name": "python",
   "nbconvert_exporter": "python",
   "pygments_lexer": "ipython3",
   "version": "3.10.9"
  }
 },
 "nbformat": 4,
 "nbformat_minor": 5
}
